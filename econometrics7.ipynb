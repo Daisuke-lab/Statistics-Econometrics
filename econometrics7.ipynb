{
 "cells": [
  {
   "cell_type": "markdown",
   "metadata": {},
   "source": [
    "# Diffirence in differences\n",
    "\n",
    "値下げ前と値下げ後の売れ行きの変化で値下げの効果を計測すると、景気に (共通の) 上昇トレンド\n",
    "があれば、値下げによる売れ行き上昇効果の推定は過大評価になる。景気とに下降トレンドがあれば、売\n",
    "上増効果は過小推定になる。そこで、もしも値下げをしていない地域があれば、値下げのない地域での売\n",
    "上増と値下げのあった地域での売上増の差が値下げの効果になる。ここで前提となるのは common trend\n",
    "assumpiton(平行トレンド仮定）DID はダミー変数の交差項と考えるとむずかしくない。\n"
   ]
  },
  {
   "cell_type": "code",
   "execution_count": null,
   "metadata": {},
   "outputs": [],
   "source": [
    "import pandas as pd\n",
    "import numpy as np\n",
    "from statsmodels.discrete.discrete_model import Probit\n",
    "import statsmodels.api as sm\n",
    "import matplotlib.pyplot as plt"
   ]
  },
  {
   "cell_type": "code",
   "execution_count": 22,
   "metadata": {},
   "outputs": [],
   "source": [
    "df = pd.read_csv(\"http://mcobaya.web.fc2.com/JS.csv\")"
   ]
  },
  {
   "cell_type": "code",
   "execution_count": 8,
   "metadata": {},
   "outputs": [],
   "source": [
    "df_SV = df[df['company'] == 'Southwark and Vauxhall']\n",
    "df_LSV = df[df['company'] == 'Lambeth & Southwark and Vauxhall']"
   ]
  },
  {
   "cell_type": "code",
   "execution_count": 12,
   "metadata": {},
   "outputs": [],
   "source": [
    "df_SV_1849 = df_SV[df_SV['year'] == 1849]\n",
    "df_SV_1854 = df_SV[df_SV['year'] == 1854]\n",
    "df_LSV_1849 = df_LSV[df_LSV['year'] == 1849]\n",
    "df_LSV_1854 = df_LSV[df_LSV['year'] == 1854]"
   ]
  },
  {
   "cell_type": "code",
   "execution_count": 16,
   "metadata": {},
   "outputs": [],
   "source": [
    "SV_1849_death = np.sum(df_SV_1849['death'])\n",
    "SV_1854_death = np.sum(df_SV_1854['death'])\n",
    "LSV_1849_death = np.sum(df_LSV_1849['death'])\n",
    "LSV_1854_death = np.sum(df_LSV_1854['death'])"
   ]
  },
  {
   "cell_type": "code",
   "execution_count": 18,
   "metadata": {},
   "outputs": [
    {
     "data": {
      "text/plain": [
       "-1554"
      ]
     },
     "execution_count": 18,
     "metadata": {},
     "output_type": "execute_result"
    }
   ],
   "source": [
    "SV_diff = SV_1854_death - SV_1849_death  #SVで死人がどれだけ増えたか\n",
    "LSV_diff = LSV_1854_death - LSV_1849_death #LSVで死人がどれだけ増えたか\n",
    "LSV_diff - SV_diff #その差"
   ]
  }
 ],
 "metadata": {
  "kernelspec": {
   "display_name": "Python 3",
   "language": "python",
   "name": "python3"
  },
  "language_info": {
   "codemirror_mode": {
    "name": "ipython",
    "version": 3
   },
   "file_extension": ".py",
   "mimetype": "text/x-python",
   "name": "python",
   "nbconvert_exporter": "python",
   "pygments_lexer": "ipython3",
   "version": "3.8.5"
  }
 },
 "nbformat": 4,
 "nbformat_minor": 4
}
