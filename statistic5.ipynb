{
 "cells": [
  {
   "cell_type": "code",
   "execution_count": 39,
   "metadata": {},
   "outputs": [],
   "source": [
    "%matplotlib inline\n",
    "import matplotlib.pyplot as plt\n",
    "import pandas as pd\n",
    "from scipy.stats import norm\n",
    "import scipy.stats as st\n",
    "import numpy as np\n",
    "import math\n",
    "from sklearn import linear_model"
   ]
  },
  {
   "cell_type": "markdown",
   "metadata": {},
   "source": [
    "# ダミー変数を使ってみる"
   ]
  },
  {
   "cell_type": "code",
   "execution_count": 72,
   "metadata": {},
   "outputs": [],
   "source": [
    "df = pd.read_csv(\"http://mcobaya.web.fc2.com/wage1.csv\")"
   ]
  },
  {
   "cell_type": "code",
   "execution_count": 32,
   "metadata": {},
   "outputs": [
    {
     "data": {
      "text/html": [
       "<div>\n",
       "<style scoped>\n",
       "    .dataframe tbody tr th:only-of-type {\n",
       "        vertical-align: middle;\n",
       "    }\n",
       "\n",
       "    .dataframe tbody tr th {\n",
       "        vertical-align: top;\n",
       "    }\n",
       "\n",
       "    .dataframe thead th {\n",
       "        text-align: right;\n",
       "    }\n",
       "</style>\n",
       "<table border=\"1\" class=\"dataframe\">\n",
       "  <thead>\n",
       "    <tr style=\"text-align: right;\">\n",
       "      <th></th>\n",
       "      <th>age</th>\n",
       "      <th>exp</th>\n",
       "      <th>sal</th>\n",
       "      <th>bon</th>\n",
       "      <th>educ</th>\n",
       "      <th>eduy</th>\n",
       "    </tr>\n",
       "  </thead>\n",
       "  <tbody>\n",
       "    <tr>\n",
       "      <td>0</td>\n",
       "      <td>18.2</td>\n",
       "      <td>1.2</td>\n",
       "      <td>185.1</td>\n",
       "      <td>50.7</td>\n",
       "      <td>jhi</td>\n",
       "      <td>9</td>\n",
       "    </tr>\n",
       "    <tr>\n",
       "      <td>1</td>\n",
       "      <td>22.8</td>\n",
       "      <td>2.6</td>\n",
       "      <td>241.4</td>\n",
       "      <td>188.6</td>\n",
       "      <td>jhi</td>\n",
       "      <td>9</td>\n",
       "    </tr>\n",
       "    <tr>\n",
       "      <td>2</td>\n",
       "      <td>27.8</td>\n",
       "      <td>4.9</td>\n",
       "      <td>268.2</td>\n",
       "      <td>308.0</td>\n",
       "      <td>jhi</td>\n",
       "      <td>9</td>\n",
       "    </tr>\n",
       "    <tr>\n",
       "      <td>3</td>\n",
       "      <td>32.5</td>\n",
       "      <td>6.2</td>\n",
       "      <td>300.2</td>\n",
       "      <td>475.5</td>\n",
       "      <td>jhi</td>\n",
       "      <td>9</td>\n",
       "    </tr>\n",
       "    <tr>\n",
       "      <td>4</td>\n",
       "      <td>37.5</td>\n",
       "      <td>9.3</td>\n",
       "      <td>314.2</td>\n",
       "      <td>443.2</td>\n",
       "      <td>jhi</td>\n",
       "      <td>9</td>\n",
       "    </tr>\n",
       "  </tbody>\n",
       "</table>\n",
       "</div>"
      ],
      "text/plain": [
       "    age  exp    sal    bon educ  eduy\n",
       "0  18.2  1.2  185.1   50.7  jhi     9\n",
       "1  22.8  2.6  241.4  188.6  jhi     9\n",
       "2  27.8  4.9  268.2  308.0  jhi     9\n",
       "3  32.5  6.2  300.2  475.5  jhi     9\n",
       "4  37.5  9.3  314.2  443.2  jhi     9"
      ]
     },
     "execution_count": 32,
     "metadata": {},
     "output_type": "execute_result"
    }
   ],
   "source": [
    "df.head(5)"
   ]
  },
  {
   "cell_type": "code",
   "execution_count": 33,
   "metadata": {},
   "outputs": [
    {
     "data": {
      "text/plain": [
       "array(['jhi', 'hig', 'jcol', 'univ'], dtype=object)"
      ]
     },
     "execution_count": 33,
     "metadata": {},
     "output_type": "execute_result"
    }
   ],
   "source": [
    "df['educ'].unique()"
   ]
  },
  {
   "cell_type": "markdown",
   "metadata": {},
   "source": [
    "## \"16：大学・大学院\",\"14：高専・短大\",\"12：高校\",\" 9：中学\"で調整する"
   ]
  },
  {
   "cell_type": "code",
   "execution_count": 34,
   "metadata": {},
   "outputs": [],
   "source": [
    "df.loc[df['educ'] == 'jhi', ['educ']] = 9\n",
    "df.loc[df['educ'] == 'hig', ['educ']] = 12\n",
    "df.loc[df['educ'] == 'jcol', ['educ']] = 14\n",
    "df.loc[df['educ'] == 'univ', ['educ']] = 16"
   ]
  },
  {
   "cell_type": "code",
   "execution_count": 67,
   "metadata": {},
   "outputs": [
    {
     "data": {
      "text/html": [
       "<div>\n",
       "<style scoped>\n",
       "    .dataframe tbody tr th:only-of-type {\n",
       "        vertical-align: middle;\n",
       "    }\n",
       "\n",
       "    .dataframe tbody tr th {\n",
       "        vertical-align: top;\n",
       "    }\n",
       "\n",
       "    .dataframe thead th {\n",
       "        text-align: right;\n",
       "    }\n",
       "</style>\n",
       "<table border=\"1\" class=\"dataframe\">\n",
       "  <thead>\n",
       "    <tr style=\"text-align: right;\">\n",
       "      <th></th>\n",
       "      <th>age</th>\n",
       "      <th>exp</th>\n",
       "      <th>sal</th>\n",
       "      <th>bon</th>\n",
       "      <th>educ</th>\n",
       "      <th>eduy</th>\n",
       "    </tr>\n",
       "  </thead>\n",
       "  <tbody>\n",
       "    <tr>\n",
       "      <td>0</td>\n",
       "      <td>18.2</td>\n",
       "      <td>1.2</td>\n",
       "      <td>185.1</td>\n",
       "      <td>50.7</td>\n",
       "      <td>0</td>\n",
       "      <td>9</td>\n",
       "    </tr>\n",
       "    <tr>\n",
       "      <td>1</td>\n",
       "      <td>22.8</td>\n",
       "      <td>2.6</td>\n",
       "      <td>241.4</td>\n",
       "      <td>188.6</td>\n",
       "      <td>0</td>\n",
       "      <td>9</td>\n",
       "    </tr>\n",
       "    <tr>\n",
       "      <td>2</td>\n",
       "      <td>27.8</td>\n",
       "      <td>4.9</td>\n",
       "      <td>268.2</td>\n",
       "      <td>308.0</td>\n",
       "      <td>0</td>\n",
       "      <td>9</td>\n",
       "    </tr>\n",
       "    <tr>\n",
       "      <td>3</td>\n",
       "      <td>32.5</td>\n",
       "      <td>6.2</td>\n",
       "      <td>300.2</td>\n",
       "      <td>475.5</td>\n",
       "      <td>0</td>\n",
       "      <td>9</td>\n",
       "    </tr>\n",
       "    <tr>\n",
       "      <td>4</td>\n",
       "      <td>37.5</td>\n",
       "      <td>9.3</td>\n",
       "      <td>314.2</td>\n",
       "      <td>443.2</td>\n",
       "      <td>0</td>\n",
       "      <td>9</td>\n",
       "    </tr>\n",
       "  </tbody>\n",
       "</table>\n",
       "</div>"
      ],
      "text/plain": [
       "    age  exp    sal    bon  educ  eduy\n",
       "0  18.2  1.2  185.1   50.7     0     9\n",
       "1  22.8  2.6  241.4  188.6     0     9\n",
       "2  27.8  4.9  268.2  308.0     0     9\n",
       "3  32.5  6.2  300.2  475.5     0     9\n",
       "4  37.5  9.3  314.2  443.2     0     9"
      ]
     },
     "execution_count": 67,
     "metadata": {},
     "output_type": "execute_result"
    }
   ],
   "source": [
    "df.head(5)"
   ]
  },
  {
   "cell_type": "markdown",
   "metadata": {},
   "source": [
    "### Interceptが初任給でcoefficientが昇給額となる"
   ]
  },
  {
   "cell_type": "code",
   "execution_count": 73,
   "metadata": {},
   "outputs": [
    {
     "name": "stdout",
     "output_type": "stream",
     "text": [
      "Coefficient: [[6.55390351]]\n",
      "Intercept: [230.22643374]\n"
     ]
    }
   ],
   "source": [
    "df_jhi = df[df['eduy'] == 9]\n",
    "model_jhi = linear_model.LinearRegression()\n",
    "model_jhi = model.fit(df_jhi[['exp']], df_jhi[['sal']])\n",
    "print('Coefficient:', str(model_jhi.coef_))\n",
    "print('Intercept:', str(model_jhi.intercept_))"
   ]
  },
  {
   "cell_type": "code",
   "execution_count": 74,
   "metadata": {},
   "outputs": [
    {
     "name": "stdout",
     "output_type": "stream",
     "text": [
      "Coefficient: [[8.92915103]]\n",
      "Intercept: [211.44101155]\n"
     ]
    }
   ],
   "source": [
    "df_hig = df[df['eduy'] == 12]\n",
    "model_hig = linear_model.LinearRegression()\n",
    "model_hig = model.fit(df_hig[['exp']], df_hig[['sal']])\n",
    "print('Coefficient:', str(model_hig.coef_))\n",
    "print('Intercept:', str(model_hig.intercept_))"
   ]
  },
  {
   "cell_type": "code",
   "execution_count": 75,
   "metadata": {},
   "outputs": [
    {
     "name": "stdout",
     "output_type": "stream",
     "text": [
      "Coefficient: [[10.35113563]]\n",
      "Intercept: [217.67358849]\n"
     ]
    }
   ],
   "source": [
    "df_jcol = df[df['eduy'] == 14]\n",
    "model_jcol = linear_model.LinearRegression()\n",
    "model_jcol = model.fit(df_jcol[['exp']], df_jcol[['sal']])\n",
    "print('Coefficient:', str(model_jcol.coef_))\n",
    "print('Intercept:', str(model_jcol.intercept_))"
   ]
  },
  {
   "cell_type": "code",
   "execution_count": 76,
   "metadata": {},
   "outputs": [
    {
     "name": "stdout",
     "output_type": "stream",
     "text": [
      "Coefficient: [[13.64607582]]\n",
      "Intercept: [257.26962822]\n"
     ]
    }
   ],
   "source": [
    "df_univ = df[df['eduy'] == 16]\n",
    "model_univ = linear_model.LinearRegression()\n",
    "model_univ = model.fit(df_univ[['exp']], df_univ[['sal']])\n",
    "print('Coefficient:', str(model_univ.coef_))\n",
    "print('Intercept:', str(model_univ.intercept_))"
   ]
  },
  {
   "cell_type": "code",
   "execution_count": 61,
   "metadata": {},
   "outputs": [
    {
     "data": {
      "image/png": "[encoded data removed]",
      "text/plain": [
       "<Figure size 432x288 with 1 Axes>"
      ]
     },
     "metadata": {
      "needs_background": "light"
     },
     "output_type": "display_data"
    }
   ],
   "source": [
    "plt.scatter(df_jhi[['exp']], model_jhi.predict(df_jhi[['exp']]), linestyle=\"solid\", color='black',)\n",
    "plt.scatter(df_hig[['exp']], model_hig.predict(df_hig[['exp']]), linestyle=\"solid\", color='skyblue',)\n",
    "plt.scatter(df_jcol[['exp']], model_jcol.predict(df_jcol[['exp']]), linestyle=\"solid\", color='pink',)\n",
    "plt.scatter(df_univ[['exp']], model_univ.predict(df_univ[['exp']]), linestyle=\"solid\", color='green',)\n",
    "plt.show()"
   ]
  },
  {
   "cell_type": "markdown",
   "metadata": {},
   "source": [
    "## 大卒と非大卒で分けて重解析"
   ]
  },
  {
   "cell_type": "code",
   "execution_count": 63,
   "metadata": {},
   "outputs": [],
   "source": [
    "df = pd.read_csv(\"http://mcobaya.web.fc2.com/wage1.csv\")\n",
    "df.loc[df['educ'] == 'jhi', ['educ']] = 0\n",
    "df.loc[df['educ'] == 'hig', ['educ']] = 0\n",
    "df.loc[df['educ'] == 'jcol', ['educ']] = 0\n",
    "df.loc[df['educ'] == 'univ', ['educ']] = 1"
   ]
  },
  {
   "cell_type": "code",
   "execution_count": 64,
   "metadata": {},
   "outputs": [],
   "source": [
    "import statsmodels.api as sm\n",
    "import statsmodels.formula.api as smf"
   ]
  },
  {
   "cell_type": "code",
   "execution_count": 66,
   "metadata": {},
   "outputs": [
    {
     "name": "stderr",
     "output_type": "stream",
     "text": [
      "C:\\Users\\daisuke\\Anaconda3\\lib\\site-packages\\numpy\\core\\fromnumeric.py:2389: FutureWarning: Method .ptp is deprecated and will be removed in a future version. Use numpy.ptp instead.\n",
      "  return ptp(axis=axis, out=out, **kwargs)\n"
     ]
    }
   ],
   "source": [
    "df_train = df.loc[:,['age', 'exp', 'bon', 'educ']]\n",
    "X_stat = sm.add_constant(df_train)\n",
    "Y_stat = df[['sal']]"
   ]
  },
  {
   "cell_type": "code",
   "execution_count": 68,
   "metadata": {},
   "outputs": [
    {
     "data": {
      "text/html": [
       "<table class=\"simpletable\">\n",
       "<caption>OLS Regression Results</caption>\n",
       "<tr>\n",
       "  <th>Dep. Variable:</th>           <td>sal</td>       <th>  R-squared:         </th> <td>   0.976</td>\n",
       "</tr>\n",
       "<tr>\n",
       "  <th>Model:</th>                   <td>OLS</td>       <th>  Adj. R-squared:    </th> <td>   0.972</td>\n",
       "</tr>\n",
       "<tr>\n",
       "  <th>Method:</th>             <td>Least Squares</td>  <th>  F-statistic:       </th> <td>   289.5</td>\n",
       "</tr>\n",
       "<tr>\n",
       "  <th>Date:</th>             <td>Thu, 29 Oct 2020</td> <th>  Prob (F-statistic):</th> <td>6.41e-23</td>\n",
       "</tr>\n",
       "<tr>\n",
       "  <th>Time:</th>                 <td>13:36:38</td>     <th>  Log-Likelihood:    </th> <td> -138.78</td>\n",
       "</tr>\n",
       "<tr>\n",
       "  <th>No. Observations:</th>      <td>    34</td>      <th>  AIC:               </th> <td>   287.6</td>\n",
       "</tr>\n",
       "<tr>\n",
       "  <th>Df Residuals:</th>          <td>    29</td>      <th>  BIC:               </th> <td>   295.2</td>\n",
       "</tr>\n",
       "<tr>\n",
       "  <th>Df Model:</th>              <td>     4</td>      <th>                     </th>     <td> </td>   \n",
       "</tr>\n",
       "<tr>\n",
       "  <th>Covariance Type:</th>      <td>nonrobust</td>    <th>                     </th>     <td> </td>   \n",
       "</tr>\n",
       "</table>\n",
       "<table class=\"simpletable\">\n",
       "<tr>\n",
       "    <td></td>       <th>coef</th>     <th>std err</th>      <th>t</th>      <th>P>|t|</th>  <th>[0.025</th>    <th>0.975]</th>  \n",
       "</tr>\n",
       "<tr>\n",
       "  <th>const</th> <td>  101.9680</td> <td>   33.237</td> <td>    3.068</td> <td> 0.005</td> <td>   33.991</td> <td>  169.945</td>\n",
       "</tr>\n",
       "<tr>\n",
       "  <th>age</th>   <td>    4.2554</td> <td>    1.599</td> <td>    2.662</td> <td> 0.013</td> <td>    0.986</td> <td>    7.525</td>\n",
       "</tr>\n",
       "<tr>\n",
       "  <th>exp</th>   <td>   -3.7937</td> <td>    3.139</td> <td>   -1.208</td> <td> 0.237</td> <td>  -10.214</td> <td>    2.627</td>\n",
       "</tr>\n",
       "<tr>\n",
       "  <th>bon</th>   <td>    0.1397</td> <td>    0.015</td> <td>    9.241</td> <td> 0.000</td> <td>    0.109</td> <td>    0.171</td>\n",
       "</tr>\n",
       "<tr>\n",
       "  <th>educ</th>  <td>    6.1579</td> <td>   11.592</td> <td>    0.531</td> <td> 0.599</td> <td>  -17.550</td> <td>   29.866</td>\n",
       "</tr>\n",
       "</table>\n",
       "<table class=\"simpletable\">\n",
       "<tr>\n",
       "  <th>Omnibus:</th>       <td> 0.272</td> <th>  Durbin-Watson:     </th> <td>   0.690</td>\n",
       "</tr>\n",
       "<tr>\n",
       "  <th>Prob(Omnibus):</th> <td> 0.873</td> <th>  Jarque-Bera (JB):  </th> <td>   0.461</td>\n",
       "</tr>\n",
       "<tr>\n",
       "  <th>Skew:</th>          <td> 0.038</td> <th>  Prob(JB):          </th> <td>   0.794</td>\n",
       "</tr>\n",
       "<tr>\n",
       "  <th>Kurtosis:</th>      <td> 2.435</td> <th>  Cond. No.          </th> <td>1.26e+04</td>\n",
       "</tr>\n",
       "</table><br/><br/>Warnings:<br/>[1] Standard Errors assume that the covariance matrix of the errors is correctly specified.<br/>[2] The condition number is large, 1.26e+04. This might indicate that there are<br/>strong multicollinearity or other numerical problems."
      ],
      "text/plain": [
       "<class 'statsmodels.iolib.summary.Summary'>\n",
       "\"\"\"\n",
       "                            OLS Regression Results                            \n",
       "==============================================================================\n",
       "Dep. Variable:                    sal   R-squared:                       0.976\n",
       "Model:                            OLS   Adj. R-squared:                  0.972\n",
       "Method:                 Least Squares   F-statistic:                     289.5\n",
       "Date:                Thu, 29 Oct 2020   Prob (F-statistic):           6.41e-23\n",
       "Time:                        13:36:38   Log-Likelihood:                -138.78\n",
       "No. Observations:                  34   AIC:                             287.6\n",
       "Df Residuals:                      29   BIC:                             295.2\n",
       "Df Model:                           4                                         \n",
       "Covariance Type:            nonrobust                                         \n",
       "==============================================================================\n",
       "                 coef    std err          t      P>|t|      [0.025      0.975]\n",
       "------------------------------------------------------------------------------\n",
       "const        101.9680     33.237      3.068      0.005      33.991     169.945\n",
       "age            4.2554      1.599      2.662      0.013       0.986       7.525\n",
       "exp           -3.7937      3.139     -1.208      0.237     -10.214       2.627\n",
       "bon            0.1397      0.015      9.241      0.000       0.109       0.171\n",
       "educ           6.1579     11.592      0.531      0.599     -17.550      29.866\n",
       "==============================================================================\n",
       "Omnibus:                        0.272   Durbin-Watson:                   0.690\n",
       "Prob(Omnibus):                  0.873   Jarque-Bera (JB):                0.461\n",
       "Skew:                           0.038   Prob(JB):                        0.794\n",
       "Kurtosis:                       2.435   Cond. No.                     1.26e+04\n",
       "==============================================================================\n",
       "\n",
       "Warnings:\n",
       "[1] Standard Errors assume that the covariance matrix of the errors is correctly specified.\n",
       "[2] The condition number is large, 1.26e+04. This might indicate that there are\n",
       "strong multicollinearity or other numerical problems.\n",
       "\"\"\""
      ]
     },
     "execution_count": 68,
     "metadata": {},
     "output_type": "execute_result"
    }
   ],
   "source": [
    "# 最小二乗法でモデル化\n",
    "model_stat = sm.OLS(Y_stat, X_stat)\n",
    "result_stat = model_stat.fit()\n",
    "\n",
    "# 重回帰分析の結果を表示する\n",
    "result_stat.summary()"
   ]
  },
  {
   "cell_type": "code",
   "execution_count": 77,
   "metadata": {},
   "outputs": [],
   "source": [
    "df2 = pd.read_csv(\"https://mcobaya.web.fc2.com/hatano/poll.csv\")"
   ]
  },
  {
   "cell_type": "code",
   "execution_count": 78,
   "metadata": {},
   "outputs": [
    {
     "data": {
      "text/html": [
       "<div>\n",
       "<style scoped>\n",
       "    .dataframe tbody tr th:only-of-type {\n",
       "        vertical-align: middle;\n",
       "    }\n",
       "\n",
       "    .dataframe tbody tr th {\n",
       "        vertical-align: top;\n",
       "    }\n",
       "\n",
       "    .dataframe thead th {\n",
       "        text-align: right;\n",
       "    }\n",
       "</style>\n",
       "<table border=\"1\" class=\"dataframe\">\n",
       "  <thead>\n",
       "    <tr style=\"text-align: right;\">\n",
       "      <th></th>\n",
       "      <th>ecosat</th>\n",
       "      <th>party</th>\n",
       "      <th>smoke</th>\n",
       "      <th>age</th>\n",
       "      <th>wrkst</th>\n",
       "      <th>edu</th>\n",
       "      <th>inc</th>\n",
       "      <th>hhinc</th>\n",
       "      <th>sex</th>\n",
       "    </tr>\n",
       "  </thead>\n",
       "  <tbody>\n",
       "    <tr>\n",
       "      <td>0</td>\n",
       "      <td>2</td>\n",
       "      <td>88</td>\n",
       "      <td>2</td>\n",
       "      <td>55</td>\n",
       "      <td>2</td>\n",
       "      <td>5</td>\n",
       "      <td>9</td>\n",
       "      <td>9.0</td>\n",
       "      <td>1</td>\n",
       "    </tr>\n",
       "    <tr>\n",
       "      <td>1</td>\n",
       "      <td>5</td>\n",
       "      <td>88</td>\n",
       "      <td>2</td>\n",
       "      <td>58</td>\n",
       "      <td>6</td>\n",
       "      <td>5</td>\n",
       "      <td>1</td>\n",
       "      <td>1.0</td>\n",
       "      <td>1</td>\n",
       "    </tr>\n",
       "    <tr>\n",
       "      <td>2</td>\n",
       "      <td>4</td>\n",
       "      <td>88</td>\n",
       "      <td>3</td>\n",
       "      <td>27</td>\n",
       "      <td>3</td>\n",
       "      <td>2</td>\n",
       "      <td>2</td>\n",
       "      <td>3.0</td>\n",
       "      <td>2</td>\n",
       "    </tr>\n",
       "    <tr>\n",
       "      <td>3</td>\n",
       "      <td>2</td>\n",
       "      <td>88</td>\n",
       "      <td>1</td>\n",
       "      <td>60</td>\n",
       "      <td>9</td>\n",
       "      <td>5</td>\n",
       "      <td>1</td>\n",
       "      <td>3.0</td>\n",
       "      <td>2</td>\n",
       "    </tr>\n",
       "    <tr>\n",
       "      <td>4</td>\n",
       "      <td>3</td>\n",
       "      <td>1</td>\n",
       "      <td>3</td>\n",
       "      <td>37</td>\n",
       "      <td>6</td>\n",
       "      <td>6</td>\n",
       "      <td>5</td>\n",
       "      <td>8.0</td>\n",
       "      <td>1</td>\n",
       "    </tr>\n",
       "  </tbody>\n",
       "</table>\n",
       "</div>"
      ],
      "text/plain": [
       "   ecosat  party  smoke  age  wrkst  edu  inc  hhinc  sex\n",
       "0       2     88      2   55      2    5    9    9.0    1\n",
       "1       5     88      2   58      6    5    1    1.0    1\n",
       "2       4     88      3   27      3    2    2    3.0    2\n",
       "3       2     88      1   60      9    5    1    3.0    2\n",
       "4       3      1      3   37      6    6    5    8.0    1"
      ]
     },
     "execution_count": 78,
     "metadata": {},
     "output_type": "execute_result"
    }
   ],
   "source": [
    "df2.head()"
   ]
  },
  {
   "cell_type": "markdown",
   "metadata": {},
   "source": [
    "### 係数ダミーと定数ダミー\n",
    "係数ダミーは傾きのダミー。定数ダミーは切片のダミー。\n",
    "\n",
    "ex)定数ダミー\n",
    "x'が大卒１、非大卒0とすると、\n",
    "y = ax + bx' + c\n",
    "y = ax + b+c\n",
    "となり切片が変わる。\n",
    "\n",
    "ex)係数ダミー\n",
    "店種ダミーは、0ならば百貨店、1ならばスーパー\n",
    "(売上）＝β0 + β1×(従業員数) + β2×(店種ダミー) + β3×(店種ダミー×従業員数))\n",
    "とすると(店種ダミー×従業員数)は係数ダミーとなる。\n",
    "*店種ダミーは定数ダミー\n"
   ]
  },
  {
   "cell_type": "markdown",
   "metadata": {},
   "source": []
  },
  {
   "cell_type": "code",
   "execution_count": null,
   "metadata": {},
   "outputs": [],
   "source": []
  }
 ],
 "metadata": {
  "kernelspec": {
   "display_name": "Python 3",
   "language": "python",
   "name": "python3"
  },
  "language_info": {
   "codemirror_mode": {
    "name": "ipython",
    "version": 3
   },
   "file_extension": ".py",
   "mimetype": "text/x-python",
   "name": "python",
   "nbconvert_exporter": "python",
   "pygments_lexer": "ipython3",
   "version": "3.6.9"
  }
 },
 "nbformat": 4,
 "nbformat_minor": 4
}
