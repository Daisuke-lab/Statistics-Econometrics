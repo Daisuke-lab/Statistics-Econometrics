{
 "cells": [
  {
   "cell_type": "markdown",
   "metadata": {},
   "source": [
    "## パネルデータ分析\n",
    "年ごとの差を比較するので、隠れた変数の効果を消すことができる。\n",
    "ex)\n",
    "2011\n",
    "Y = ax + bx' + c + (dx'') dx''=実際にはない変数\n",
    "2013\n",
    "Y = ax + bx' + c + (dx'') "
   ]
  },
  {
   "cell_type": "code",
   "execution_count": 1,
   "metadata": {},
   "outputs": [],
   "source": [
    "import pandas as pd\n",
    "import matplotlib.pyplot as plt"
   ]
  },
  {
   "cell_type": "code",
   "execution_count": 3,
   "metadata": {},
   "outputs": [],
   "source": [
    "df = pd.read_csv(\"http://mcobaya.web.fc2.com/tfr1_long.csv\",encoding=\"shift-jis\")"
   ]
  },
  {
   "cell_type": "markdown",
   "metadata": {},
   "source": [
    "### flp=女性労働力率 tfr=合計特殊出生率"
   ]
  },
  {
   "cell_type": "markdown",
   "metadata": {},
   "source": [
    "### Entity Effects(individual effects) and Time Effects\n",
    "entity effect is　観測されない変数によるエフェクト。もし観測されない変数が時間によって不変なら、パネルデータ分析で相殺される。\n",
    "time effect is 時間によって変わったとされる部分。"
   ]
  },
  {
   "cell_type": "code",
   "execution_count": 8,
   "metadata": {},
   "outputs": [],
   "source": [
    "df_1980 = df[df['year'] == 1980]\n",
    "df_2000 = df[df['year'] == 2000]"
   ]
  },
  {
   "cell_type": "code",
   "execution_count": 18,
   "metadata": {},
   "outputs": [
    {
     "data": {
      "text/html": [
       "<div>\n",
       "<style scoped>\n",
       "    .dataframe tbody tr th:only-of-type {\n",
       "        vertical-align: middle;\n",
       "    }\n",
       "\n",
       "    .dataframe tbody tr th {\n",
       "        vertical-align: top;\n",
       "    }\n",
       "\n",
       "    .dataframe thead th {\n",
       "        text-align: right;\n",
       "    }\n",
       "</style>\n",
       "<table border=\"1\" class=\"dataframe\">\n",
       "  <thead>\n",
       "    <tr style=\"text-align: right;\">\n",
       "      <th></th>\n",
       "      <th>pref</th>\n",
       "      <th>flp</th>\n",
       "      <th>tfr</th>\n",
       "      <th>year</th>\n",
       "    </tr>\n",
       "  </thead>\n",
       "  <tbody>\n",
       "    <tr>\n",
       "      <td>0</td>\n",
       "      <td>北海道</td>\n",
       "      <td>47.1</td>\n",
       "      <td>1.64</td>\n",
       "      <td>1980</td>\n",
       "    </tr>\n",
       "    <tr>\n",
       "      <td>1</td>\n",
       "      <td>青森</td>\n",
       "      <td>53.5</td>\n",
       "      <td>1.85</td>\n",
       "      <td>1980</td>\n",
       "    </tr>\n",
       "    <tr>\n",
       "      <td>2</td>\n",
       "      <td>岩手</td>\n",
       "      <td>59.2</td>\n",
       "      <td>1.95</td>\n",
       "      <td>1980</td>\n",
       "    </tr>\n",
       "    <tr>\n",
       "      <td>3</td>\n",
       "      <td>宮城</td>\n",
       "      <td>53.3</td>\n",
       "      <td>1.86</td>\n",
       "      <td>1980</td>\n",
       "    </tr>\n",
       "    <tr>\n",
       "      <td>4</td>\n",
       "      <td>秋田</td>\n",
       "      <td>59.1</td>\n",
       "      <td>1.79</td>\n",
       "      <td>1980</td>\n",
       "    </tr>\n",
       "    <tr>\n",
       "      <td>...</td>\n",
       "      <td>...</td>\n",
       "      <td>...</td>\n",
       "      <td>...</td>\n",
       "      <td>...</td>\n",
       "    </tr>\n",
       "    <tr>\n",
       "      <td>89</td>\n",
       "      <td>熊本</td>\n",
       "      <td>62.4</td>\n",
       "      <td>1.56</td>\n",
       "      <td>2000</td>\n",
       "    </tr>\n",
       "    <tr>\n",
       "      <td>90</td>\n",
       "      <td>大分</td>\n",
       "      <td>59.6</td>\n",
       "      <td>1.51</td>\n",
       "      <td>2000</td>\n",
       "    </tr>\n",
       "    <tr>\n",
       "      <td>91</td>\n",
       "      <td>宮崎</td>\n",
       "      <td>62.9</td>\n",
       "      <td>1.62</td>\n",
       "      <td>2000</td>\n",
       "    </tr>\n",
       "    <tr>\n",
       "      <td>92</td>\n",
       "      <td>鹿児島</td>\n",
       "      <td>58.7</td>\n",
       "      <td>1.58</td>\n",
       "      <td>2000</td>\n",
       "    </tr>\n",
       "    <tr>\n",
       "      <td>93</td>\n",
       "      <td>沖縄</td>\n",
       "      <td>56.5</td>\n",
       "      <td>1.82</td>\n",
       "      <td>2000</td>\n",
       "    </tr>\n",
       "  </tbody>\n",
       "</table>\n",
       "<p>94 rows × 4 columns</p>\n",
       "</div>"
      ],
      "text/plain": [
       "   pref   flp   tfr  year\n",
       "0   北海道  47.1  1.64  1980\n",
       "1    青森  53.5  1.85  1980\n",
       "2    岩手  59.2  1.95  1980\n",
       "3    宮城  53.3  1.86  1980\n",
       "4    秋田  59.1  1.79  1980\n",
       "..  ...   ...   ...   ...\n",
       "89   熊本  62.4  1.56  2000\n",
       "90   大分  59.6  1.51  2000\n",
       "91   宮崎  62.9  1.62  2000\n",
       "92  鹿児島  58.7  1.58  2000\n",
       "93   沖縄  56.5  1.82  2000\n",
       "\n",
       "[94 rows x 4 columns]"
      ]
     },
     "execution_count": 18,
     "metadata": {},
     "output_type": "execute_result"
    }
   ],
   "source": [
    "df"
   ]
  },
  {
   "cell_type": "code",
   "execution_count": 12,
   "metadata": {},
   "outputs": [
    {
     "data": {
      "text/plain": [
       "<matplotlib.collections.PathCollection at 0x2b13537b748>"
      ]
     },
     "execution_count": 12,
     "metadata": {},
     "output_type": "execute_result"
    },
    {
     "data": {
      "image/png": "[encoded data removed]",
      "text/plain": [
       "<Figure size 432x288 with 1 Axes>"
      ]
     },
     "metadata": {
      "needs_background": "light"
     },
     "output_type": "display_data"
    }
   ],
   "source": [
    "fig = plt.figure()\n",
    "ax = fig.add_subplot(111)\n",
    "x1 = df_1980['flp']\n",
    "x2 = df_1980['tfr']\n",
    "x3 = df_2000['flp']\n",
    "x4 = df_2000['tfr']\n",
    "\n",
    "ax.scatter(x1, x2, c='red')\n",
    "ax.scatter(x3, x4, c='blue')"
   ]
  },
  {
   "cell_type": "code",
   "execution_count": 17,
   "metadata": {},
   "outputs": [],
   "source": [
    "import numpy as np\n",
    "from scipy.stats import norm, gaussian_kde\n",
    "from linearmodels.panel.data import PanelData\n",
    "from linearmodels.panel import PanelOLS, PooledOLS, RandomEffects, compare\n",
    "from collections import OrderedDict\n",
    "import wooldridge\n",
    "from statsmodels.formula.api import ols"
   ]
  },
  {
   "cell_type": "code",
   "execution_count": 74,
   "metadata": {},
   "outputs": [
    {
     "data": {
      "text/plain": [
       "0     北海道\n",
       "1      青森\n",
       "2      岩手\n",
       "3      宮城\n",
       "4      秋田\n",
       "5      山形\n",
       "6      福島\n",
       "7      茨城\n",
       "8      栃木\n",
       "9      群馬\n",
       "10     埼玉\n",
       "11     千葉\n",
       "12     東京\n",
       "13    神奈川\n",
       "14     新潟\n",
       "15     富山\n",
       "16     石川\n",
       "17     福井\n",
       "18     山梨\n",
       "19     長野\n",
       "20     岐阜\n",
       "21     静岡\n",
       "22     愛知\n",
       "23     三重\n",
       "24     滋賀\n",
       "25     京都\n",
       "26     大阪\n",
       "27     兵庫\n",
       "28     奈良\n",
       "29    和歌山\n",
       "30     鳥取\n",
       "31     島根\n",
       "32     岡山\n",
       "33     広島\n",
       "34     山口\n",
       "35     徳島\n",
       "36     香川\n",
       "37     愛媛\n",
       "38     高知\n",
       "39     福岡\n",
       "40     佐賀\n",
       "41     長崎\n",
       "42     熊本\n",
       "43     大分\n",
       "44     宮崎\n",
       "45    鹿児島\n",
       "46     沖縄\n",
       "Name: pref, dtype: object"
      ]
     },
     "execution_count": 74,
     "metadata": {},
     "output_type": "execute_result"
    }
   ],
   "source": [
    "df.iloc[:47,0]"
   ]
  },
  {
   "cell_type": "code",
   "execution_count": 77,
   "metadata": {},
   "outputs": [],
   "source": [
    "df.iloc[:47,0] = [i for i in range(0,47)]\n",
    "df.iloc[47:, 0] = [i for i in range(0,47)]"
   ]
  },
  {
   "cell_type": "code",
   "execution_count": 78,
   "metadata": {},
   "outputs": [
    {
     "data": {
      "text/html": [
       "<div>\n",
       "<style scoped>\n",
       "    .dataframe tbody tr th:only-of-type {\n",
       "        vertical-align: middle;\n",
       "    }\n",
       "\n",
       "    .dataframe tbody tr th {\n",
       "        vertical-align: top;\n",
       "    }\n",
       "\n",
       "    .dataframe thead th {\n",
       "        text-align: right;\n",
       "    }\n",
       "</style>\n",
       "<table border=\"1\" class=\"dataframe\">\n",
       "  <thead>\n",
       "    <tr style=\"text-align: right;\">\n",
       "      <th></th>\n",
       "      <th></th>\n",
       "      <th>year</th>\n",
       "      <th>pref</th>\n",
       "      <th>flp</th>\n",
       "      <th>tfr</th>\n",
       "    </tr>\n",
       "    <tr>\n",
       "      <th>year</th>\n",
       "      <th>pref</th>\n",
       "      <th></th>\n",
       "      <th></th>\n",
       "      <th></th>\n",
       "      <th></th>\n",
       "    </tr>\n",
       "  </thead>\n",
       "  <tbody>\n",
       "    <tr>\n",
       "      <td rowspan=\"5\" valign=\"top\">1980</td>\n",
       "      <td>0</td>\n",
       "      <td>1980</td>\n",
       "      <td>0</td>\n",
       "      <td>47.1</td>\n",
       "      <td>1.64</td>\n",
       "    </tr>\n",
       "    <tr>\n",
       "      <td>1</td>\n",
       "      <td>1980</td>\n",
       "      <td>1</td>\n",
       "      <td>53.5</td>\n",
       "      <td>1.85</td>\n",
       "    </tr>\n",
       "    <tr>\n",
       "      <td>2</td>\n",
       "      <td>1980</td>\n",
       "      <td>2</td>\n",
       "      <td>59.2</td>\n",
       "      <td>1.95</td>\n",
       "    </tr>\n",
       "    <tr>\n",
       "      <td>3</td>\n",
       "      <td>1980</td>\n",
       "      <td>3</td>\n",
       "      <td>53.3</td>\n",
       "      <td>1.86</td>\n",
       "    </tr>\n",
       "    <tr>\n",
       "      <td>4</td>\n",
       "      <td>1980</td>\n",
       "      <td>4</td>\n",
       "      <td>59.1</td>\n",
       "      <td>1.79</td>\n",
       "    </tr>\n",
       "    <tr>\n",
       "      <td>...</td>\n",
       "      <td>...</td>\n",
       "      <td>...</td>\n",
       "      <td>...</td>\n",
       "      <td>...</td>\n",
       "      <td>...</td>\n",
       "    </tr>\n",
       "    <tr>\n",
       "      <td rowspan=\"5\" valign=\"top\">2000</td>\n",
       "      <td>42</td>\n",
       "      <td>2000</td>\n",
       "      <td>42</td>\n",
       "      <td>62.4</td>\n",
       "      <td>1.56</td>\n",
       "    </tr>\n",
       "    <tr>\n",
       "      <td>43</td>\n",
       "      <td>2000</td>\n",
       "      <td>43</td>\n",
       "      <td>59.6</td>\n",
       "      <td>1.51</td>\n",
       "    </tr>\n",
       "    <tr>\n",
       "      <td>44</td>\n",
       "      <td>2000</td>\n",
       "      <td>44</td>\n",
       "      <td>62.9</td>\n",
       "      <td>1.62</td>\n",
       "    </tr>\n",
       "    <tr>\n",
       "      <td>45</td>\n",
       "      <td>2000</td>\n",
       "      <td>45</td>\n",
       "      <td>58.7</td>\n",
       "      <td>1.58</td>\n",
       "    </tr>\n",
       "    <tr>\n",
       "      <td>46</td>\n",
       "      <td>2000</td>\n",
       "      <td>46</td>\n",
       "      <td>56.5</td>\n",
       "      <td>1.82</td>\n",
       "    </tr>\n",
       "  </tbody>\n",
       "</table>\n",
       "<p>94 rows × 4 columns</p>\n",
       "</div>"
      ],
      "text/plain": [
       "           year  pref   flp   tfr\n",
       "year pref                        \n",
       "1980 0     1980     0  47.1  1.64\n",
       "     1     1980     1  53.5  1.85\n",
       "     2     1980     2  59.2  1.95\n",
       "     3     1980     3  53.3  1.86\n",
       "     4     1980     4  59.1  1.79\n",
       "...         ...   ...   ...   ...\n",
       "2000 42    2000    42  62.4  1.56\n",
       "     43    2000    43  59.6  1.51\n",
       "     44    2000    44  62.9  1.62\n",
       "     45    2000    45  58.7  1.58\n",
       "     46    2000    46  56.5  1.82\n",
       "\n",
       "[94 rows x 4 columns]"
      ]
     },
     "execution_count": 78,
     "metadata": {},
     "output_type": "execute_result"
    }
   ],
   "source": [
    "df_main = df.reindex(['year','pref', 'flp', 'tfr'], axis='columns')\n",
    "df_main.set_index(['year', 'pref'],inplace=True, drop=False)\n",
    "df_main\n",
    "#indexは二つ必要。比較する用(year)とカテゴリー(pref)"
   ]
  },
  {
   "cell_type": "code",
   "execution_count": 79,
   "metadata": {},
   "outputs": [
    {
     "data": {
      "text/html": [
       "PanelData<br/><div>\n",
       "<style scoped>\n",
       "    .dataframe tbody tr th:only-of-type {\n",
       "        vertical-align: middle;\n",
       "    }\n",
       "\n",
       "    .dataframe tbody tr th {\n",
       "        vertical-align: top;\n",
       "    }\n",
       "\n",
       "    .dataframe thead th {\n",
       "        text-align: right;\n",
       "    }\n",
       "</style>\n",
       "<table border=\"1\" class=\"dataframe\">\n",
       "  <thead>\n",
       "    <tr style=\"text-align: right;\">\n",
       "      <th></th>\n",
       "      <th></th>\n",
       "      <th>year</th>\n",
       "      <th>pref</th>\n",
       "      <th>flp</th>\n",
       "      <th>tfr</th>\n",
       "    </tr>\n",
       "    <tr>\n",
       "      <th>year</th>\n",
       "      <th>pref</th>\n",
       "      <th></th>\n",
       "      <th></th>\n",
       "      <th></th>\n",
       "      <th></th>\n",
       "    </tr>\n",
       "  </thead>\n",
       "  <tbody>\n",
       "    <tr>\n",
       "      <td rowspan=\"5\" valign=\"top\">1980</td>\n",
       "      <td>0</td>\n",
       "      <td>1980.0</td>\n",
       "      <td>0.0</td>\n",
       "      <td>47.1</td>\n",
       "      <td>1.64</td>\n",
       "    </tr>\n",
       "    <tr>\n",
       "      <td>1</td>\n",
       "      <td>1980.0</td>\n",
       "      <td>1.0</td>\n",
       "      <td>53.5</td>\n",
       "      <td>1.85</td>\n",
       "    </tr>\n",
       "    <tr>\n",
       "      <td>2</td>\n",
       "      <td>1980.0</td>\n",
       "      <td>2.0</td>\n",
       "      <td>59.2</td>\n",
       "      <td>1.95</td>\n",
       "    </tr>\n",
       "    <tr>\n",
       "      <td>3</td>\n",
       "      <td>1980.0</td>\n",
       "      <td>3.0</td>\n",
       "      <td>53.3</td>\n",
       "      <td>1.86</td>\n",
       "    </tr>\n",
       "    <tr>\n",
       "      <td>4</td>\n",
       "      <td>1980.0</td>\n",
       "      <td>4.0</td>\n",
       "      <td>59.1</td>\n",
       "      <td>1.79</td>\n",
       "    </tr>\n",
       "    <tr>\n",
       "      <td>...</td>\n",
       "      <td>...</td>\n",
       "      <td>...</td>\n",
       "      <td>...</td>\n",
       "      <td>...</td>\n",
       "      <td>...</td>\n",
       "    </tr>\n",
       "    <tr>\n",
       "      <td rowspan=\"5\" valign=\"top\">2000</td>\n",
       "      <td>42</td>\n",
       "      <td>2000.0</td>\n",
       "      <td>42.0</td>\n",
       "      <td>62.4</td>\n",
       "      <td>1.56</td>\n",
       "    </tr>\n",
       "    <tr>\n",
       "      <td>43</td>\n",
       "      <td>2000.0</td>\n",
       "      <td>43.0</td>\n",
       "      <td>59.6</td>\n",
       "      <td>1.51</td>\n",
       "    </tr>\n",
       "    <tr>\n",
       "      <td>44</td>\n",
       "      <td>2000.0</td>\n",
       "      <td>44.0</td>\n",
       "      <td>62.9</td>\n",
       "      <td>1.62</td>\n",
       "    </tr>\n",
       "    <tr>\n",
       "      <td>45</td>\n",
       "      <td>2000.0</td>\n",
       "      <td>45.0</td>\n",
       "      <td>58.7</td>\n",
       "      <td>1.58</td>\n",
       "    </tr>\n",
       "    <tr>\n",
       "      <td>46</td>\n",
       "      <td>2000.0</td>\n",
       "      <td>46.0</td>\n",
       "      <td>56.5</td>\n",
       "      <td>1.82</td>\n",
       "    </tr>\n",
       "  </tbody>\n",
       "</table>\n",
       "<p>94 rows × 4 columns</p>\n",
       "</div>"
      ],
      "text/plain": [
       "PanelData\n",
       "             year  pref   flp   tfr\n",
       "year pref                          \n",
       "1980 0     1980.0   0.0  47.1  1.64\n",
       "     1     1980.0   1.0  53.5  1.85\n",
       "     2     1980.0   2.0  59.2  1.95\n",
       "     3     1980.0   3.0  53.3  1.86\n",
       "     4     1980.0   4.0  59.1  1.79\n",
       "...           ...   ...   ...   ...\n",
       "2000 42    2000.0  42.0  62.4  1.56\n",
       "     43    2000.0  43.0  59.6  1.51\n",
       "     44    2000.0  44.0  62.9  1.62\n",
       "     45    2000.0  45.0  58.7  1.58\n",
       "     46    2000.0  46.0  56.5  1.82\n",
       "\n",
       "[94 rows x 4 columns]\n",
       "PanelData object, id: 0x2b13785e128"
      ]
     },
     "execution_count": 79,
     "metadata": {},
     "output_type": "execute_result"
    }
   ],
   "source": [
    "df_panel = PanelData(df_main)\n",
    "df_panel"
   ]
  },
  {
   "cell_type": "code",
   "execution_count": 52,
   "metadata": {},
   "outputs": [
    {
     "data": {
      "text/plain": [
       "True"
      ]
     },
     "execution_count": 52,
     "metadata": {},
     "output_type": "execute_result"
    }
   ],
   "source": [
    "(~df_panel.isnull).all()"
   ]
  },
  {
   "cell_type": "code",
   "execution_count": 86,
   "metadata": {},
   "outputs": [],
   "source": [
    "formula_fe = 'tfr ~ flp \\\n",
    "                      + EntityEffects'\n",
    "formula_fe2 = 'tfr ~ flp \\\n",
    "                      + EntityEffects + TimeEffects'\n",
    "# \\で改行\n",
    "#'lwage ~ married + union + expersq + TimeEffects + EntityEffects'"
   ]
  },
  {
   "cell_type": "code",
   "execution_count": 85,
   "metadata": {},
   "outputs": [
    {
     "name": "stdout",
     "output_type": "stream",
     "text": [
      "                             Parameter Estimates                              \n",
      "==============================================================================\n",
      "            Parameter  Std. Err.     T-stat    P-value    Lower CI    Upper CI\n",
      "------------------------------------------------------------------------------\n",
      "flp            0.0102     0.0023     4.3819     0.0000      0.0056      0.0148\n",
      "==============================================================================\n"
     ]
    }
   ],
   "source": [
    "mod_fe = PanelOLS.from_formula(formula_fe, data=df_panel)\n",
    "result_fe = mod_fe.fit()\n",
    "print(result_fe.summary.tables[1])"
   ]
  },
  {
   "cell_type": "code",
   "execution_count": 87,
   "metadata": {},
   "outputs": [
    {
     "name": "stdout",
     "output_type": "stream",
     "text": [
      "                             Parameter Estimates                              \n",
      "==============================================================================\n",
      "            Parameter  Std. Err.     T-stat    P-value    Lower CI    Upper CI\n",
      "------------------------------------------------------------------------------\n",
      "flp           -0.0096     0.0029    -3.3297     0.0017     -0.0154     -0.0038\n",
      "==============================================================================\n"
     ]
    }
   ],
   "source": [
    "mod_fe = PanelOLS.from_formula(formula_fe2, data=df_panel)\n",
    "result_fe = mod_fe.fit()\n",
    "print(result_fe.summary.tables[1])"
   ]
  },
  {
   "cell_type": "markdown",
   "metadata": {},
   "source": [
    "### Time effects をいれるということは前の式に1980=0 or 1というダミー変数を追加していることと同義\n",
    "#### 上の式に46このダミー変数を追加して都道府県を変数に入れることもできる。"
   ]
  },
  {
   "cell_type": "code",
   "execution_count": null,
   "metadata": {},
   "outputs": [],
   "source": []
  }
 ],
 "metadata": {
  "kernelspec": {
   "display_name": "Python 3",
   "language": "python",
   "name": "python3"
  },
  "language_info": {
   "codemirror_mode": {
    "name": "ipython",
    "version": 3
   },
   "file_extension": ".py",
   "mimetype": "text/x-python",
   "name": "python",
   "nbconvert_exporter": "python",
   "pygments_lexer": "ipython3",
   "version": "3.8.5"
  }
 },
 "nbformat": 4,
 "nbformat_minor": 4
}
