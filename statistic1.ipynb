{
 "cells": [
  {
   "cell_type": "code",
   "execution_count": 1,
   "metadata": {},
   "outputs": [
    {
     "data": {
      "text/html": [
       "<div>\n",
       "<style scoped>\n",
       "    .dataframe tbody tr th:only-of-type {\n",
       "        vertical-align: middle;\n",
       "    }\n",
       "\n",
       "    .dataframe tbody tr th {\n",
       "        vertical-align: top;\n",
       "    }\n",
       "\n",
       "    .dataframe thead th {\n",
       "        text-align: right;\n",
       "    }\n",
       "</style>\n",
       "<table border=\"1\" class=\"dataframe\">\n",
       "  <thead>\n",
       "    <tr style=\"text-align: right;\">\n",
       "      <th></th>\n",
       "      <th>Japan Code</th>\n",
       "      <th>Japan</th>\n",
       "      <th>Year Code</th>\n",
       "      <th>Year</th>\n",
       "      <th>/Internal migrants,Change,Rate and population</th>\n",
       "      <th>Internal migrants  Both sexes</th>\n",
       "      <th>Internal migrants  Male</th>\n",
       "      <th>Internal migrants  Female</th>\n",
       "      <th>Sex ratio(Males per 100 females)</th>\n",
       "      <th>Change from previous year  Both sexes[%]</th>\n",
       "      <th>Change from previous year  Male[%]</th>\n",
       "      <th>Change from previous year  Female[%]</th>\n",
       "      <th>Rate of migration  Both sexes[%]</th>\n",
       "      <th>Rate of migration  Male[%]</th>\n",
       "      <th>Rate of migration  Female[%]</th>\n",
       "      <th>Japanese population  Both sexes[thousands]</th>\n",
       "      <th>Japanese population  Male[thousands]</th>\n",
       "      <th>Japanese population  Female[thousands]</th>\n",
       "    </tr>\n",
       "  </thead>\n",
       "  <tbody>\n",
       "    <tr>\n",
       "      <td>0</td>\n",
       "      <td>0</td>\n",
       "      <td>Japan</td>\n",
       "      <td>1954000000</td>\n",
       "      <td>1954</td>\n",
       "      <td>NaN</td>\n",
       "      <td>5,498,318</td>\n",
       "      <td>***</td>\n",
       "      <td>***</td>\n",
       "      <td>***</td>\n",
       "      <td>***</td>\n",
       "      <td>***</td>\n",
       "      <td>***</td>\n",
       "      <td>6.27</td>\n",
       "      <td>***</td>\n",
       "      <td>***</td>\n",
       "      <td>87,652</td>\n",
       "      <td>43,020</td>\n",
       "      <td>44632</td>\n",
       "    </tr>\n",
       "    <tr>\n",
       "      <td>1</td>\n",
       "      <td>0</td>\n",
       "      <td>Japan</td>\n",
       "      <td>1955000000</td>\n",
       "      <td>1955</td>\n",
       "      <td>NaN</td>\n",
       "      <td>5,140,569</td>\n",
       "      <td>***</td>\n",
       "      <td>***</td>\n",
       "      <td>***</td>\n",
       "      <td>-6.5</td>\n",
       "      <td>***</td>\n",
       "      <td>***</td>\n",
       "      <td>5.80</td>\n",
       "      <td>***</td>\n",
       "      <td>***</td>\n",
       "      <td>88,678</td>\n",
       "      <td>43,533</td>\n",
       "      <td>45145</td>\n",
       "    </tr>\n",
       "    <tr>\n",
       "      <td>2</td>\n",
       "      <td>0</td>\n",
       "      <td>Japan</td>\n",
       "      <td>1956000000</td>\n",
       "      <td>1956</td>\n",
       "      <td>NaN</td>\n",
       "      <td>4,859,625</td>\n",
       "      <td>***</td>\n",
       "      <td>***</td>\n",
       "      <td>***</td>\n",
       "      <td>-5.5</td>\n",
       "      <td>***</td>\n",
       "      <td>***</td>\n",
       "      <td>5.43</td>\n",
       "      <td>***</td>\n",
       "      <td>***</td>\n",
       "      <td>89,573</td>\n",
       "      <td>43,974</td>\n",
       "      <td>45599</td>\n",
       "    </tr>\n",
       "    <tr>\n",
       "      <td>3</td>\n",
       "      <td>0</td>\n",
       "      <td>Japan</td>\n",
       "      <td>1957000000</td>\n",
       "      <td>1957</td>\n",
       "      <td>NaN</td>\n",
       "      <td>5,268,248</td>\n",
       "      <td>***</td>\n",
       "      <td>***</td>\n",
       "      <td>***</td>\n",
       "      <td>8.4</td>\n",
       "      <td>***</td>\n",
       "      <td>***</td>\n",
       "      <td>5.83</td>\n",
       "      <td>***</td>\n",
       "      <td>***</td>\n",
       "      <td>90,327</td>\n",
       "      <td>44,342</td>\n",
       "      <td>45985</td>\n",
       "    </tr>\n",
       "    <tr>\n",
       "      <td>4</td>\n",
       "      <td>0</td>\n",
       "      <td>Japan</td>\n",
       "      <td>1958000000</td>\n",
       "      <td>1958</td>\n",
       "      <td>NaN</td>\n",
       "      <td>5,294,291</td>\n",
       "      <td>2,386,443</td>\n",
       "      <td>2,193,979</td>\n",
       "      <td>108.8</td>\n",
       "      <td>0.5</td>\n",
       "      <td>***</td>\n",
       "      <td>***</td>\n",
       "      <td>5.81</td>\n",
       "      <td>***</td>\n",
       "      <td>***</td>\n",
       "      <td>91,162</td>\n",
       "      <td>44,749</td>\n",
       "      <td>46413</td>\n",
       "    </tr>\n",
       "  </tbody>\n",
       "</table>\n",
       "</div>"
      ],
      "text/plain": [
       "   Japan Code  Japan   Year Code  Year  \\\n",
       "0           0  Japan  1954000000  1954   \n",
       "1           0  Japan  1955000000  1955   \n",
       "2           0  Japan  1956000000  1956   \n",
       "3           0  Japan  1957000000  1957   \n",
       "4           0  Japan  1958000000  1958   \n",
       "\n",
       "   /Internal migrants,Change,Rate and population  \\\n",
       "0                                            NaN   \n",
       "1                                            NaN   \n",
       "2                                            NaN   \n",
       "3                                            NaN   \n",
       "4                                            NaN   \n",
       "\n",
       "  Internal migrants  Both sexes Internal migrants  Male  \\\n",
       "0                     5,498,318                     ***   \n",
       "1                     5,140,569                     ***   \n",
       "2                     4,859,625                     ***   \n",
       "3                     5,268,248                     ***   \n",
       "4                     5,294,291               2,386,443   \n",
       "\n",
       "  Internal migrants  Female Sex ratio(Males per 100 females)  \\\n",
       "0                       ***                              ***   \n",
       "1                       ***                              ***   \n",
       "2                       ***                              ***   \n",
       "3                       ***                              ***   \n",
       "4                 2,193,979                            108.8   \n",
       "\n",
       "  Change from previous year  Both sexes[%] Change from previous year  Male[%]  \\\n",
       "0                                      ***                                ***   \n",
       "1                                     -6.5                                ***   \n",
       "2                                     -5.5                                ***   \n",
       "3                                      8.4                                ***   \n",
       "4                                      0.5                                ***   \n",
       "\n",
       "  Change from previous year  Female[%]  Rate of migration  Both sexes[%]  \\\n",
       "0                                  ***                              6.27   \n",
       "1                                  ***                              5.80   \n",
       "2                                  ***                              5.43   \n",
       "3                                  ***                              5.83   \n",
       "4                                  ***                              5.81   \n",
       "\n",
       "  Rate of migration  Male[%] Rate of migration  Female[%]  \\\n",
       "0                        ***                          ***   \n",
       "1                        ***                          ***   \n",
       "2                        ***                          ***   \n",
       "3                        ***                          ***   \n",
       "4                        ***                          ***   \n",
       "\n",
       "  Japanese population  Both sexes[thousands]  \\\n",
       "0                                     87,652   \n",
       "1                                     88,678   \n",
       "2                                     89,573   \n",
       "3                                     90,327   \n",
       "4                                     91,162   \n",
       "\n",
       "  Japanese population  Male[thousands]  Japanese population  Female[thousands]  \n",
       "0                               43,020                                   44632  \n",
       "1                               43,533                                   45145  \n",
       "2                               43,974                                   45599  \n",
       "3                               44,342                                   45985  \n",
       "4                               44,749                                   46413  "
      ]
     },
     "execution_count": 1,
     "metadata": {},
     "output_type": "execute_result"
    }
   ],
   "source": [
    "%matplotlib inline\n",
    "import matplotlib.pyplot as plt\n",
    "import pandas as pd\n",
    "from scipy.stats import norm\n",
    "import scipy.stats as st\n",
    "import numpy as np\n",
    "df = pd.read_csv('statistic_sample1.csv')\n",
    "df['Japanese population  Female[thousands]'] = df['Japanese population  Female[thousands]'].str.replace(',', '').astype(int)\n",
    "df.head(5)"
   ]
  },
  {
   "cell_type": "code",
   "execution_count": 161,
   "metadata": {},
   "outputs": [
    {
     "data": {
      "image/png": "[encoded data removed]",
      "text/plain": [
       "<Figure size 432x288 with 1 Axes>"
      ]
     },
     "metadata": {
      "needs_background": "light"
     },
     "output_type": "display_data"
    }
   ],
   "source": [
    "\n",
    "plt.plot(df['Year'], df['Japanese population  Female[thousands]'])\n",
    "plt.xlabel('year')\n",
    "plt.ylabel('Japanese population  Female[thousands]')\n",
    "plt.show()"
   ]
  },
  {
   "cell_type": "code",
   "execution_count": 18,
   "metadata": {},
   "outputs": [],
   "source": [
    "#母集団の平均、標準偏差、分散\n",
    "population_mean = np.mean(df['Japanese population  Female[thousands]'])\n",
    "population_std = np.std(df['Japanese population  Female[thousands]'])\n",
    "population_var = np.var(df['Japanese population  Female[thousands]'])"
   ]
  },
  {
   "cell_type": "code",
   "execution_count": 163,
   "metadata": {},
   "outputs": [],
   "source": [
    "#u = [norm.pdf(x = i, loc = mean1, scale=std1) for i in df['Japanese population  Female[thousands]']]\n",
    "#df['norm'] = u"
   ]
  },
  {
   "cell_type": "code",
   "execution_count": 164,
   "metadata": {},
   "outputs": [
    {
     "data": {
      "text/plain": [
       "<matplotlib.axes._subplots.AxesSubplot at 0x20f7547d1c8>"
      ]
     },
     "execution_count": 164,
     "metadata": {},
     "output_type": "execute_result"
    },
    {
     "data": {
      "image/png": "[encoded data removed]",
      "text/plain": [
       "<Figure size 432x288 with 1 Axes>"
      ]
     },
     "metadata": {
      "needs_background": "light"
     },
     "output_type": "display_data"
    }
   ],
   "source": [
    "#df.plot(x = 'Japanese population  Female[thousands]', y = 'norm')"
   ]
  },
  {
   "cell_type": "code",
   "execution_count": null,
   "metadata": {},
   "outputs": [],
   "source": []
  },
  {
   "cell_type": "code",
   "execution_count": 16,
   "metadata": {},
   "outputs": [
    {
     "name": "stdout",
     "output_type": "stream",
     "text": [
      "55716.1 6509.574708842352\n"
     ]
    }
   ],
   "source": [
    "#sampleの平均、標準偏差、分散\n",
    "sample = df['Japanese population  Female[thousands]'].sample(n = 20)\n",
    "sample_mean=np.mean(random1)\n",
    "sample_std = np.std(random1)\n",
    "sample_list = list(random1)\n",
    "print(sample_mean, sample_std)"
   ]
  },
  {
   "cell_type": "code",
   "execution_count": 19,
   "metadata": {},
   "outputs": [
    {
     "data": {
      "text/plain": [
       "(42091.40355042529, 69340.7964495747, 57150.18518518518)"
      ]
     },
     "execution_count": 19,
     "metadata": {},
     "output_type": "execute_result"
    }
   ],
   "source": [
    "bottom, up = st.t.interval(0.95, len(sample)-1, sample_mean,sample_std)\n",
    "bottom, up, population_mean\n",
    "#母平均の区間推定(母分散は知らない)"
   ]
  },
  {
   "cell_type": "code",
   "execution_count": 25,
   "metadata": {},
   "outputs": [
    {
     "data": {
      "text/plain": [
       "((116037315.94053267, 31458601.73922506), 44487142.336076796)"
      ]
     },
     "execution_count": 25,
     "metadata": {},
     "output_type": "execute_result"
    }
   ],
   "source": [
    "#ddof=1は分散をn-1で割る\n",
    "sample_var = np.var(sample, ddof=1)\n",
    "df = len(random1) - 1\n",
    "#χ²を手に入れただけ\n",
    "chi2_025, chi2_975 = st.chi2.interval(alpha=0.95, df= df)\n",
    "#df = n-1\n",
    "#(n-1)*s²/χ²を0.025と0.975で計算しているだけ。\n",
    "confidence_interval = (df*sample_var/chi2_025, df*sample_var/chi2_975)\n",
    "confidence_interval, population_var\n",
    "#母分散の推定"
   ]
  },
  {
   "cell_type": "code",
   "execution_count": 24,
   "metadata": {},
   "outputs": [
    {
     "name": "stdout",
     "output_type": "stream",
     "text": [
      "母集団の平均：57150.18518518518\n",
      "sampleの平均の平均：57125.430949999994\n"
     ]
    },
    {
     "data": {
      "image/png": "[encoded data removed]",
      "text/plain": [
       "<Figure size 432x288 with 1 Axes>"
      ]
     },
     "metadata": {
      "needs_background": "light"
     },
     "output_type": "display_data"
    }
   ],
   "source": [
    "#sampleの平均の平均は母集団の平均に近づくという例\n",
    "sample_mean_list = []\n",
    "for i in range(1000):\n",
    "    random1 = df['Japanese population  Female[thousands]'].sample(n = 20)\n",
    "    mean2 = np.mean(random1)\n",
    "    sample_mean_list.append(mean2)\n",
    "plt.hist(sample_mean_list, bins = 50)\n",
    "print('母集団の平均：'+str(population_mean))\n",
    "print('sampleの平均の平均：'+str(np.array(sample_mean_list).mean()))"
   ]
  },
  {
   "cell_type": "markdown",
   "metadata": {},
   "source": [
    "#検定とは。。。。\n",
    "実際のmean(var.etc)を予想するmeanと同じかどうか、sampleのmeanを使って調べる(検定)することである。"
   ]
  },
  {
   "cell_type": "code",
   "execution_count": 141,
   "metadata": {},
   "outputs": [
    {
     "data": {
      "text/plain": [
       "((110653213.80621576, 29998930.56884406), 44487142.336076796)"
      ]
     },
     "execution_count": 141,
     "metadata": {},
     "output_type": "execute_result"
    }
   ],
   "source": [
    "variance1 = np.var(random1, ddof=1)\n",
    "df = len(random1) - 1\n",
    "chi2_025, chi2_975 = st.chi2.interval(alpha=0.95, df= df)\n",
    "confidence_interval = (df*variance1/chi2_025, df*variance1/chi2_975)\n",
    "confidence_interval, var1\n",
    "#母分散の推定"
   ]
  },
  {
   "cell_type": "code",
   "execution_count": 196,
   "metadata": {},
   "outputs": [
    {
     "data": {
      "text/plain": [
       "(1.317877947001993, 0.20321419860718498)"
      ]
     },
     "execution_count": 196,
     "metadata": {},
     "output_type": "execute_result"
    }
   ],
   "source": [
    "t, p = st.ttest_1samp(sample_list, mean1)\n",
    "t, p\n",
    "#母平均のt検定"
   ]
  },
  {
   "cell_type": "code",
   "execution_count": 204,
   "metadata": {},
   "outputs": [],
   "source": [
    "chi_value = st.chi2.ppf(0.975, df=19)\n",
    "#test_var = df*int(variance1) / int(var)\n",
    "#memory_error\n",
    "#母分散のt検定"
   ]
  },
  {
   "cell_type": "code",
   "execution_count": null,
   "metadata": {},
   "outputs": [],
   "source": []
  },
  {
   "cell_type": "code",
   "execution_count": null,
   "metadata": {},
   "outputs": [],
   "source": []
  }
 ],
 "metadata": {
  "kernelspec": {
   "display_name": "Python 3",
   "language": "python",
   "name": "python3"
  },
  "language_info": {
   "codemirror_mode": {
    "name": "ipython",
    "version": 3
   },
   "file_extension": ".py",
   "mimetype": "text/x-python",
   "name": "python",
   "nbconvert_exporter": "python",
   "pygments_lexer": "ipython3",
   "version": "3.6.9"
  }
 },
 "nbformat": 4,
 "nbformat_minor": 4
}
