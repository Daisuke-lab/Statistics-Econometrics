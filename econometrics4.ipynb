{
 "cells": [
  {
   "cell_type": "code",
   "execution_count": 10,
   "metadata": {},
   "outputs": [],
   "source": [
    "import pandas as pd\n",
    "import numpy as np\n",
    "from sklearn.linear_model import LogisticRegression\n",
    "from sklearn.model_selection import train_test_split\n",
    "import matplotlib.pyplot as plt\n",
    "from sklearn.calibration import calibration_curve"
   ]
  },
  {
   "cell_type": "markdown",
   "metadata": {},
   "source": [
    "## ロジスティック回帰 (logistic curve)：p(X)=1/(1+exp(-a-bx))\n",
    "\n",
    "## 対数オッズ　log(p/(1-p))=a+b*x+c*D\n",
    "\n",
    "\n",
    "xn=薬の投与量　yn=死んだかどうか\n",
    "\n",
    "[  0,   1,   5,  15,  50, 100]"
   ]
  },
  {
   "cell_type": "code",
   "execution_count": 13,
   "metadata": {},
   "outputs": [],
   "source": [
    "df = pd. read_csv(\"http://mcobaya.web.fc2.com/rats.csv\")\n",
    "X_train, X_test, Y_train, Y_test = train_test_split(df['xn'], df['yn'], test_size=0.3, random_state=0) "
   ]
  },
  {
   "cell_type": "code",
   "execution_count": 27,
   "metadata": {},
   "outputs": [
    {
     "data": {
      "text/plain": [
       "LogisticRegression()"
      ]
     },
     "execution_count": 27,
     "metadata": {},
     "output_type": "execute_result"
    }
   ],
   "source": [
    "lr = LogisticRegression() # ロジスティック回帰モデルのインスタンスを作成\n",
    "lr.fit(X_train.to_numpy().reshape(-1, 1), Y_train)"
   ]
  },
  {
   "cell_type": "code",
   "execution_count": 28,
   "metadata": {},
   "outputs": [
    {
     "name": "stdout",
     "output_type": "stream",
     "text": [
      "coefficient =  [[0.08181119]]\n",
      "intercept =  [-2.80623879]\n"
     ]
    }
   ],
   "source": [
    "print(\"coefficient = \", lr.coef_)\n",
    "print(\"intercept = \", lr.intercept_)"
   ]
  },
  {
   "cell_type": "code",
   "execution_count": 30,
   "metadata": {},
   "outputs": [
    {
     "name": "stdout",
     "output_type": "stream",
     "text": [
      "[[0.93845277 0.06154723]\n",
      " [0.94301203 0.05698797]\n",
      " [0.91661223 0.08338777]\n",
      " [0.00461012 0.99538988]\n",
      " [0.91661223 0.08338777]\n",
      " [0.21681561 0.78318439]\n",
      " [0.93845277 0.06154723]\n",
      " [0.91661223 0.08338777]\n",
      " [0.91661223 0.08338777]\n",
      " [0.93845277 0.06154723]\n",
      " [0.82907289 0.17092711]\n",
      " [0.82907289 0.17092711]\n",
      " [0.91661223 0.08338777]\n",
      " [0.93845277 0.06154723]\n",
      " [0.91661223 0.08338777]\n",
      " [0.00461012 0.99538988]\n",
      " [0.82907289 0.17092711]\n",
      " [0.21681561 0.78318439]\n",
      " [0.21681561 0.78318439]\n",
      " [0.21681561 0.78318439]\n",
      " [0.91661223 0.08338777]\n",
      " [0.93845277 0.06154723]\n",
      " [0.21681561 0.78318439]\n",
      " [0.93845277 0.06154723]\n",
      " [0.21681561 0.78318439]\n",
      " [0.91661223 0.08338777]\n",
      " [0.94301203 0.05698797]\n",
      " [0.94301203 0.05698797]\n",
      " [0.00461012 0.99538988]\n",
      " [0.94301203 0.05698797]\n",
      " [0.94301203 0.05698797]\n",
      " [0.91661223 0.08338777]\n",
      " [0.21681561 0.78318439]\n",
      " [0.00461012 0.99538988]\n",
      " [0.93845277 0.06154723]\n",
      " [0.21681561 0.78318439]\n",
      " [0.00461012 0.99538988]\n",
      " [0.21681561 0.78318439]\n",
      " [0.91661223 0.08338777]\n",
      " [0.82907289 0.17092711]\n",
      " [0.00461012 0.99538988]]\n"
     ]
    }
   ],
   "source": [
    "probs = lr.predict_proba(X_test.to_numpy().reshape(-1, 1))\n",
    "print(probs)"
   ]
  },
  {
   "cell_type": "markdown",
   "metadata": {},
   "source": [
    "#### モデルの評価"
   ]
  },
  {
   "cell_type": "code",
   "execution_count": 35,
   "metadata": {},
   "outputs": [
    {
     "data": {
      "image/png": "[encoded data removed]",
      "text/plain": [
       "<Figure size 432x288 with 2 Axes>"
      ]
     },
     "metadata": {
      "needs_background": "light"
     },
     "output_type": "display_data"
    }
   ],
   "source": [
    "prob = lr.predict_proba(X_test.to_numpy().reshape(-1, 1))[:, 1] # 目的変数が1である確率を予測\n",
    "prob_true, prob_pred = calibration_curve(y_true=Y_test, y_prob=prob, n_bins=20)\n",
    "\n",
    "fig, ax1 = plt.subplots()\n",
    "ax1.plot(prob_pred, prob_true, marker='s', label='calibration plot', color='skyblue') # キャリプレーションプロットを作成\n",
    "ax1.plot([0, 1], [0, 1], linestyle='--', label='ideal', color='limegreen') # 45度線をプロット\n",
    "ax1.legend(bbox_to_anchor=(1.12, 1), loc='upper left')\n",
    "ax2 = ax1.twinx() # 2軸を追加\n",
    "ax2.hist(prob, bins=20, histtype='step', color='orangered') # スコアのヒストグラムも併せてプロット\n",
    "plt.show()\n",
    "\n",
    "#横軸にprediction、縦軸に実際の確率をとる。　だからidealは45度線。"
   ]
  },
  {
   "cell_type": "code",
   "execution_count": 39,
   "metadata": {},
   "outputs": [
    {
     "data": {
      "text/plain": [
       "<matplotlib.collections.PathCollection at 0x1c301100df0>"
      ]
     },
     "execution_count": 39,
     "metadata": {},
     "output_type": "execute_result"
    },
    {
     "data": {
      "image/png": "[encoded data removed]",
      "text/plain": [
       "<Figure size 432x288 with 1 Axes>"
      ]
     },
     "metadata": {
      "needs_background": "light"
     },
     "output_type": "display_data"
    }
   ],
   "source": [
    "fig = plt.figure()\n",
    "ax = fig.add_subplot(111)\n",
    "ax.scatter(X_test, prob)"
   ]
  },
  {
   "cell_type": "code",
   "execution_count": 46,
   "metadata": {},
   "outputs": [],
   "source": [
    "list1 = [i for i in range(101)]\n",
    "probs2 = lr.predict_proba(np.reshape(list1, (-1, 1)))"
   ]
  },
  {
   "cell_type": "code",
   "execution_count": 55,
   "metadata": {},
   "outputs": [
    {
     "data": {
      "text/plain": [
       "(41,)"
      ]
     },
     "execution_count": 55,
     "metadata": {},
     "output_type": "execute_result"
    }
   ],
   "source": [
    "probs[:, 1].shape"
   ]
  },
  {
   "cell_type": "code",
   "execution_count": 51,
   "metadata": {},
   "outputs": [
    {
     "data": {
      "text/plain": [
       "(101, 1)"
      ]
     },
     "execution_count": 51,
     "metadata": {},
     "output_type": "execute_result"
    }
   ],
   "source": [
    "np.reshape(list1, (-1, 1)).shape"
   ]
  },
  {
   "cell_type": "code",
   "execution_count": 56,
   "metadata": {},
   "outputs": [
    {
     "data": {
      "text/plain": [
       "<matplotlib.collections.PathCollection at 0x1c30112a820>"
      ]
     },
     "execution_count": 56,
     "metadata": {},
     "output_type": "execute_result"
    },
    {
     "data": {
      "image/png": "[encoded data removed]",
      "text/plain": [
       "<Figure size 432x288 with 1 Axes>"
      ]
     },
     "metadata": {
      "needs_background": "light"
     },
     "output_type": "display_data"
    }
   ],
   "source": [
    "fig = plt.figure()\n",
    "ax = fig.add_subplot(111)\n",
    "ax.scatter(list1, probs2[:, 1])"
   ]
  },
  {
   "cell_type": "code",
   "execution_count": null,
   "metadata": {},
   "outputs": [],
   "source": []
  }
 ],
 "metadata": {
  "kernelspec": {
   "display_name": "Python 3",
   "language": "python",
   "name": "python3"
  },
  "language_info": {
   "codemirror_mode": {
    "name": "ipython",
    "version": 3
   },
   "file_extension": ".py",
   "mimetype": "text/x-python",
   "name": "python",
   "nbconvert_exporter": "python",
   "pygments_lexer": "ipython3",
   "version": "3.8.5"
  }
 },
 "nbformat": 4,
 "nbformat_minor": 4
}
