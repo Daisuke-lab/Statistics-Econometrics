{
 "cells": [
  {
   "cell_type": "markdown",
   "metadata": {},
   "source": [
    "### 縦軸に「GDP成長率」、横軸に「失業率の変化分」をとり、傾きの絶対値が経済学では Okun 係数と呼ばれる"
   ]
  },
  {
   "cell_type": "markdown",
   "metadata": {},
   "source": [
    "### （YP‐Y）/YP ＝ａ× (Ｕ‐Ｕ F）\n",
    "Y:現在のGDP，YP：潜在産出高(使われていない人、機械をフル稼働した時のGDP)，ａ：オークン係数，UF：完全雇用失業率(仕事をやめてよりいい仕事を探す)，Ｕ：現実の失業率,  a:オークン係数"
   ]
  },
  {
   "cell_type": "markdown",
   "metadata": {},
   "source": [
    "#### オークン係数が大きいほど雇用が少し増えただけでGDPが上がる。\n",
    "日本 => 大きい\n",
    "USA => 小さい"
   ]
  },
  {
   "cell_type": "code",
   "execution_count": 77,
   "metadata": {},
   "outputs": [],
   "source": [
    "import pandas as pd\n",
    "import matplotlib.pyplot as plt\n",
    "import cv2\n",
    "from PIL import Image\n",
    "import numpy as np\n",
    "from math import log"
   ]
  },
  {
   "cell_type": "markdown",
   "metadata": {},
   "source": [
    "### picturesのFile_000.jpegとFile_001.jpegを確認"
   ]
  },
  {
   "cell_type": "code",
   "execution_count": 126,
   "metadata": {},
   "outputs": [],
   "source": [
    "df_j = pd.read_csv(r'http://mcobaya.web.fc2.com/okunjpn.csv')\n",
    "df_u = pd.read_csv('http://mcobaya.web.fc2.com/okunus.csv')"
   ]
  },
  {
   "cell_type": "code",
   "execution_count": 127,
   "metadata": {},
   "outputs": [
    {
     "data": {
      "text/html": [
       "<div>\n",
       "<style scoped>\n",
       "    .dataframe tbody tr th:only-of-type {\n",
       "        vertical-align: middle;\n",
       "    }\n",
       "\n",
       "    .dataframe tbody tr th {\n",
       "        vertical-align: top;\n",
       "    }\n",
       "\n",
       "    .dataframe thead th {\n",
       "        text-align: right;\n",
       "    }\n",
       "</style>\n",
       "<table border=\"1\" class=\"dataframe\">\n",
       "  <thead>\n",
       "    <tr style=\"text-align: right;\">\n",
       "      <th></th>\n",
       "      <th>YEAR</th>\n",
       "      <th>UP</th>\n",
       "      <th>RGDP</th>\n",
       "    </tr>\n",
       "  </thead>\n",
       "  <tbody>\n",
       "    <tr>\n",
       "      <td>40</td>\n",
       "      <td>1996</td>\n",
       "      <td>3.4</td>\n",
       "      <td>485219.1</td>\n",
       "    </tr>\n",
       "    <tr>\n",
       "      <td>41</td>\n",
       "      <td>1997</td>\n",
       "      <td>3.4</td>\n",
       "      <td>492954.2</td>\n",
       "    </tr>\n",
       "    <tr>\n",
       "      <td>42</td>\n",
       "      <td>1998</td>\n",
       "      <td>4.1</td>\n",
       "      <td>480586.9</td>\n",
       "    </tr>\n",
       "    <tr>\n",
       "      <td>43</td>\n",
       "      <td>1999</td>\n",
       "      <td>4.7</td>\n",
       "      <td>481561.8</td>\n",
       "    </tr>\n",
       "    <tr>\n",
       "      <td>44</td>\n",
       "      <td>2000</td>\n",
       "      <td>4.7</td>\n",
       "      <td>485971.5</td>\n",
       "    </tr>\n",
       "  </tbody>\n",
       "</table>\n",
       "</div>"
      ],
      "text/plain": [
       "    YEAR   UP      RGDP\n",
       "40  1996  3.4  485219.1\n",
       "41  1997  3.4  492954.2\n",
       "42  1998  4.1  480586.9\n",
       "43  1999  4.7  481561.8\n",
       "44  2000  4.7  485971.5"
      ]
     },
     "execution_count": 127,
     "metadata": {},
     "output_type": "execute_result"
    }
   ],
   "source": [
    "df_j.tail(5)"
   ]
  },
  {
   "cell_type": "code",
   "execution_count": 128,
   "metadata": {},
   "outputs": [],
   "source": [
    "df_j['DUP'] = df_j['UP'].diff()\n",
    "df_j['log_RGDP'] = np.log(df_j['RGDP'])\n",
    "df_j['100_log_RGDP'] = df_j['log_RGDP'] * 100\n",
    "df_j['DGDP'] = df_j['100_log_RGDP'].diff()"
   ]
  },
  {
   "cell_type": "code",
   "execution_count": 130,
   "metadata": {},
   "outputs": [],
   "source": [
    "df_u['DUP'] = df_u['UP'].diff()\n",
    "df_u['log_RGDP'] = np.log(df_u['RGDP'])\n",
    "df_u['100_log_RGDP'] = df_u['log_RGDP'] * 100\n",
    "df_u['DGDP'] = df_u['100_log_RGDP'].diff()"
   ]
  },
  {
   "cell_type": "code",
   "execution_count": 147,
   "metadata": {},
   "outputs": [
    {
     "data": {
      "text/html": [
       "<div>\n",
       "<style scoped>\n",
       "    .dataframe tbody tr th:only-of-type {\n",
       "        vertical-align: middle;\n",
       "    }\n",
       "\n",
       "    .dataframe tbody tr th {\n",
       "        vertical-align: top;\n",
       "    }\n",
       "\n",
       "    .dataframe thead th {\n",
       "        text-align: right;\n",
       "    }\n",
       "</style>\n",
       "<table border=\"1\" class=\"dataframe\">\n",
       "  <thead>\n",
       "    <tr style=\"text-align: right;\">\n",
       "      <th></th>\n",
       "      <th>YEAR</th>\n",
       "      <th>UP</th>\n",
       "      <th>RGDP</th>\n",
       "      <th>DUP</th>\n",
       "      <th>log_RGDP</th>\n",
       "      <th>100_log_RGDP</th>\n",
       "      <th>DGDP</th>\n",
       "    </tr>\n",
       "  </thead>\n",
       "  <tbody>\n",
       "    <tr>\n",
       "      <td>0</td>\n",
       "      <td>1956</td>\n",
       "      <td>2.3</td>\n",
       "      <td>50602.7</td>\n",
       "      <td>0.0</td>\n",
       "      <td>10.831760</td>\n",
       "      <td>1083.176021</td>\n",
       "      <td>0.000000</td>\n",
       "    </tr>\n",
       "    <tr>\n",
       "      <td>1</td>\n",
       "      <td>1957</td>\n",
       "      <td>1.9</td>\n",
       "      <td>54557.7</td>\n",
       "      <td>-0.4</td>\n",
       "      <td>10.907014</td>\n",
       "      <td>1090.701414</td>\n",
       "      <td>7.525392</td>\n",
       "    </tr>\n",
       "    <tr>\n",
       "      <td>2</td>\n",
       "      <td>1958</td>\n",
       "      <td>2.0</td>\n",
       "      <td>57946.9</td>\n",
       "      <td>0.1</td>\n",
       "      <td>10.967282</td>\n",
       "      <td>1096.728235</td>\n",
       "      <td>6.026822</td>\n",
       "    </tr>\n",
       "    <tr>\n",
       "      <td>3</td>\n",
       "      <td>1959</td>\n",
       "      <td>2.2</td>\n",
       "      <td>63402.7</td>\n",
       "      <td>0.2</td>\n",
       "      <td>11.057262</td>\n",
       "      <td>1105.726173</td>\n",
       "      <td>8.997937</td>\n",
       "    </tr>\n",
       "    <tr>\n",
       "      <td>4</td>\n",
       "      <td>1960</td>\n",
       "      <td>1.6</td>\n",
       "      <td>71683.2</td>\n",
       "      <td>-0.6</td>\n",
       "      <td>11.180012</td>\n",
       "      <td>1118.001169</td>\n",
       "      <td>12.274996</td>\n",
       "    </tr>\n",
       "  </tbody>\n",
       "</table>\n",
       "</div>"
      ],
      "text/plain": [
       "   YEAR   UP     RGDP  DUP   log_RGDP  100_log_RGDP       DGDP\n",
       "0  1956  2.3  50602.7  0.0  10.831760   1083.176021   0.000000\n",
       "1  1957  1.9  54557.7 -0.4  10.907014   1090.701414   7.525392\n",
       "2  1958  2.0  57946.9  0.1  10.967282   1096.728235   6.026822\n",
       "3  1959  2.2  63402.7  0.2  11.057262   1105.726173   8.997937\n",
       "4  1960  1.6  71683.2 -0.6  11.180012   1118.001169  12.274996"
      ]
     },
     "execution_count": 147,
     "metadata": {},
     "output_type": "execute_result"
    }
   ],
   "source": [
    "df_j.head()"
   ]
  },
  {
   "cell_type": "code",
   "execution_count": 148,
   "metadata": {},
   "outputs": [],
   "source": [
    "df_j.iloc[0,6] = 0\n",
    "df_j.iloc[0,3] = 0\n",
    "df_u.iloc[0,6] = 0\n",
    "df_u.iloc[0,3] = 0"
   ]
  },
  {
   "cell_type": "code",
   "execution_count": 132,
   "metadata": {},
   "outputs": [],
   "source": [
    "import statsmodels.api as sm\n",
    "import statsmodels.formula.api as smf"
   ]
  },
  {
   "cell_type": "code",
   "execution_count": 150,
   "metadata": {},
   "outputs": [],
   "source": [
    "X_stat = sm.add_constant(df_j['DUP'])\n",
    "Y_stat = df_j[['DGDP']]"
   ]
  },
  {
   "cell_type": "code",
   "execution_count": 151,
   "metadata": {},
   "outputs": [
    {
     "data": {
      "text/html": [
       "<table class=\"simpletable\">\n",
       "<caption>OLS Regression Results</caption>\n",
       "<tr>\n",
       "  <th>Dep. Variable:</th>          <td>DGDP</td>       <th>  R-squared:         </th> <td>   0.333</td>\n",
       "</tr>\n",
       "<tr>\n",
       "  <th>Model:</th>                   <td>OLS</td>       <th>  Adj. R-squared:    </th> <td>   0.318</td>\n",
       "</tr>\n",
       "<tr>\n",
       "  <th>Method:</th>             <td>Least Squares</td>  <th>  F-statistic:       </th> <td>   21.49</td>\n",
       "</tr>\n",
       "<tr>\n",
       "  <th>Date:</th>             <td>Tue, 15 Dec 2020</td> <th>  Prob (F-statistic):</th> <td>3.30e-05</td>\n",
       "</tr>\n",
       "<tr>\n",
       "  <th>Time:</th>                 <td>10:56:17</td>     <th>  Log-Likelihood:    </th> <td> -113.66</td>\n",
       "</tr>\n",
       "<tr>\n",
       "  <th>No. Observations:</th>      <td>    45</td>      <th>  AIC:               </th> <td>   231.3</td>\n",
       "</tr>\n",
       "<tr>\n",
       "  <th>Df Residuals:</th>          <td>    43</td>      <th>  BIC:               </th> <td>   234.9</td>\n",
       "</tr>\n",
       "<tr>\n",
       "  <th>Df Model:</th>              <td>     1</td>      <th>                     </th>     <td> </td>   \n",
       "</tr>\n",
       "<tr>\n",
       "  <th>Covariance Type:</th>      <td>nonrobust</td>    <th>                     </th>     <td> </td>   \n",
       "</tr>\n",
       "</table>\n",
       "<table class=\"simpletable\">\n",
       "<tr>\n",
       "    <td></td>       <th>coef</th>     <th>std err</th>      <th>t</th>      <th>P>|t|</th>  <th>[0.025</th>    <th>0.975]</th>  \n",
       "</tr>\n",
       "<tr>\n",
       "  <th>const</th> <td>    5.4986</td> <td>    0.472</td> <td>   11.640</td> <td> 0.000</td> <td>    4.546</td> <td>    6.451</td>\n",
       "</tr>\n",
       "<tr>\n",
       "  <th>DUP</th>   <td>   -8.8426</td> <td>    1.907</td> <td>   -4.636</td> <td> 0.000</td> <td>  -12.689</td> <td>   -4.996</td>\n",
       "</tr>\n",
       "</table>\n",
       "<table class=\"simpletable\">\n",
       "<tr>\n",
       "  <th>Omnibus:</th>       <td> 2.360</td> <th>  Durbin-Watson:     </th> <td>   1.013</td>\n",
       "</tr>\n",
       "<tr>\n",
       "  <th>Prob(Omnibus):</th> <td> 0.307</td> <th>  Jarque-Bera (JB):  </th> <td>   1.650</td>\n",
       "</tr>\n",
       "<tr>\n",
       "  <th>Skew:</th>          <td> 0.258</td> <th>  Prob(JB):          </th> <td>   0.438</td>\n",
       "</tr>\n",
       "<tr>\n",
       "  <th>Kurtosis:</th>      <td> 2.216</td> <th>  Cond. No.          </th> <td>    4.15</td>\n",
       "</tr>\n",
       "</table><br/><br/>Warnings:<br/>[1] Standard Errors assume that the covariance matrix of the errors is correctly specified."
      ],
      "text/plain": [
       "<class 'statsmodels.iolib.summary.Summary'>\n",
       "\"\"\"\n",
       "                            OLS Regression Results                            \n",
       "==============================================================================\n",
       "Dep. Variable:                   DGDP   R-squared:                       0.333\n",
       "Model:                            OLS   Adj. R-squared:                  0.318\n",
       "Method:                 Least Squares   F-statistic:                     21.49\n",
       "Date:                Tue, 15 Dec 2020   Prob (F-statistic):           3.30e-05\n",
       "Time:                        10:56:17   Log-Likelihood:                -113.66\n",
       "No. Observations:                  45   AIC:                             231.3\n",
       "Df Residuals:                      43   BIC:                             234.9\n",
       "Df Model:                           1                                         \n",
       "Covariance Type:            nonrobust                                         \n",
       "==============================================================================\n",
       "                 coef    std err          t      P>|t|      [0.025      0.975]\n",
       "------------------------------------------------------------------------------\n",
       "const          5.4986      0.472     11.640      0.000       4.546       6.451\n",
       "DUP           -8.8426      1.907     -4.636      0.000     -12.689      -4.996\n",
       "==============================================================================\n",
       "Omnibus:                        2.360   Durbin-Watson:                   1.013\n",
       "Prob(Omnibus):                  0.307   Jarque-Bera (JB):                1.650\n",
       "Skew:                           0.258   Prob(JB):                        0.438\n",
       "Kurtosis:                       2.216   Cond. No.                         4.15\n",
       "==============================================================================\n",
       "\n",
       "Warnings:\n",
       "[1] Standard Errors assume that the covariance matrix of the errors is correctly specified.\n",
       "\"\"\""
      ]
     },
     "execution_count": 151,
     "metadata": {},
     "output_type": "execute_result"
    }
   ],
   "source": [
    "# 最小二乗法でモデル化\n",
    "model_stat = sm.OLS(Y_stat, X_stat)\n",
    "result_stat = model_stat.fit()\n",
    "\n",
    "# 重回帰分析の結果を表示する\n",
    "result_stat.summary()"
   ]
  },
  {
   "cell_type": "markdown",
   "metadata": {},
   "source": [
    "### abs(DUPのconf)を見ると、日本のOkun係数は8.8426"
   ]
  },
  {
   "cell_type": "code",
   "execution_count": 152,
   "metadata": {},
   "outputs": [],
   "source": [
    "X_stat = sm.add_constant(df_u['DUP'])\n",
    "Y_stat = df_u[['DGDP']]"
   ]
  },
  {
   "cell_type": "code",
   "execution_count": 153,
   "metadata": {},
   "outputs": [
    {
     "data": {
      "text/html": [
       "<table class=\"simpletable\">\n",
       "<caption>OLS Regression Results</caption>\n",
       "<tr>\n",
       "  <th>Dep. Variable:</th>          <td>DGDP</td>       <th>  R-squared:         </th> <td>   0.680</td>\n",
       "</tr>\n",
       "<tr>\n",
       "  <th>Model:</th>                   <td>OLS</td>       <th>  Adj. R-squared:    </th> <td>   0.673</td>\n",
       "</tr>\n",
       "<tr>\n",
       "  <th>Method:</th>             <td>Least Squares</td>  <th>  F-statistic:       </th> <td>   87.27</td>\n",
       "</tr>\n",
       "<tr>\n",
       "  <th>Date:</th>             <td>Tue, 15 Dec 2020</td> <th>  Prob (F-statistic):</th> <td>1.04e-11</td>\n",
       "</tr>\n",
       "<tr>\n",
       "  <th>Time:</th>                 <td>10:58:16</td>     <th>  Log-Likelihood:    </th> <td> -68.518</td>\n",
       "</tr>\n",
       "<tr>\n",
       "  <th>No. Observations:</th>      <td>    43</td>      <th>  AIC:               </th> <td>   141.0</td>\n",
       "</tr>\n",
       "<tr>\n",
       "  <th>Df Residuals:</th>          <td>    41</td>      <th>  BIC:               </th> <td>   144.6</td>\n",
       "</tr>\n",
       "<tr>\n",
       "  <th>Df Model:</th>              <td>     1</td>      <th>                     </th>     <td> </td>   \n",
       "</tr>\n",
       "<tr>\n",
       "  <th>Covariance Type:</th>      <td>nonrobust</td>    <th>                     </th>     <td> </td>   \n",
       "</tr>\n",
       "</table>\n",
       "<table class=\"simpletable\">\n",
       "<tr>\n",
       "    <td></td>       <th>coef</th>     <th>std err</th>      <th>t</th>      <th>P>|t|</th>  <th>[0.025</th>    <th>0.975]</th>  \n",
       "</tr>\n",
       "<tr>\n",
       "  <th>const</th> <td>    3.1773</td> <td>    0.186</td> <td>   17.084</td> <td> 0.000</td> <td>    2.802</td> <td>    3.553</td>\n",
       "</tr>\n",
       "<tr>\n",
       "  <th>DUP</th>   <td>   -1.9178</td> <td>    0.205</td> <td>   -9.342</td> <td> 0.000</td> <td>   -2.332</td> <td>   -1.503</td>\n",
       "</tr>\n",
       "</table>\n",
       "<table class=\"simpletable\">\n",
       "<tr>\n",
       "  <th>Omnibus:</th>       <td> 0.778</td> <th>  Durbin-Watson:     </th> <td>   1.612</td>\n",
       "</tr>\n",
       "<tr>\n",
       "  <th>Prob(Omnibus):</th> <td> 0.678</td> <th>  Jarque-Bera (JB):  </th> <td>   0.672</td>\n",
       "</tr>\n",
       "<tr>\n",
       "  <th>Skew:</th>          <td>-0.292</td> <th>  Prob(JB):          </th> <td>   0.715</td>\n",
       "</tr>\n",
       "<tr>\n",
       "  <th>Kurtosis:</th>      <td> 2.815</td> <th>  Cond. No.          </th> <td>    1.11</td>\n",
       "</tr>\n",
       "</table><br/><br/>Warnings:<br/>[1] Standard Errors assume that the covariance matrix of the errors is correctly specified."
      ],
      "text/plain": [
       "<class 'statsmodels.iolib.summary.Summary'>\n",
       "\"\"\"\n",
       "                            OLS Regression Results                            \n",
       "==============================================================================\n",
       "Dep. Variable:                   DGDP   R-squared:                       0.680\n",
       "Model:                            OLS   Adj. R-squared:                  0.673\n",
       "Method:                 Least Squares   F-statistic:                     87.27\n",
       "Date:                Tue, 15 Dec 2020   Prob (F-statistic):           1.04e-11\n",
       "Time:                        10:58:16   Log-Likelihood:                -68.518\n",
       "No. Observations:                  43   AIC:                             141.0\n",
       "Df Residuals:                      41   BIC:                             144.6\n",
       "Df Model:                           1                                         \n",
       "Covariance Type:            nonrobust                                         \n",
       "==============================================================================\n",
       "                 coef    std err          t      P>|t|      [0.025      0.975]\n",
       "------------------------------------------------------------------------------\n",
       "const          3.1773      0.186     17.084      0.000       2.802       3.553\n",
       "DUP           -1.9178      0.205     -9.342      0.000      -2.332      -1.503\n",
       "==============================================================================\n",
       "Omnibus:                        0.778   Durbin-Watson:                   1.612\n",
       "Prob(Omnibus):                  0.678   Jarque-Bera (JB):                0.672\n",
       "Skew:                          -0.292   Prob(JB):                        0.715\n",
       "Kurtosis:                       2.815   Cond. No.                         1.11\n",
       "==============================================================================\n",
       "\n",
       "Warnings:\n",
       "[1] Standard Errors assume that the covariance matrix of the errors is correctly specified.\n",
       "\"\"\""
      ]
     },
     "execution_count": 153,
     "metadata": {},
     "output_type": "execute_result"
    }
   ],
   "source": [
    "# 最小二乗法でモデル化\n",
    "model_stat = sm.OLS(Y_stat, X_stat)\n",
    "result_stat = model_stat.fit()\n",
    "\n",
    "# 重回帰分析の結果を表示する\n",
    "result_stat.summary()"
   ]
  },
  {
   "cell_type": "markdown",
   "metadata": {},
   "source": [
    "### abs(DUPのconf)を見ると、アメリカのOkun係数は1.9178"
   ]
  },
  {
   "cell_type": "code",
   "execution_count": 155,
   "metadata": {},
   "outputs": [],
   "source": [
    "import scipy.stats as st"
   ]
  },
  {
   "cell_type": "code",
   "execution_count": null,
   "metadata": {},
   "outputs": [],
   "source": []
  }
 ],
 "metadata": {
  "kernelspec": {
   "display_name": "Python 3",
   "language": "python",
   "name": "python3"
  },
  "language_info": {
   "codemirror_mode": {
    "name": "ipython",
    "version": 3
   },
   "file_extension": ".py",
   "mimetype": "text/x-python",
   "name": "python",
   "nbconvert_exporter": "python",
   "pygments_lexer": "ipython3",
   "version": "3.8.5"
  }
 },
 "nbformat": 4,
 "nbformat_minor": 4
}
