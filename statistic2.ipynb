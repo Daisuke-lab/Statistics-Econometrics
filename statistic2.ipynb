{
 "cells": [
  {
   "cell_type": "code",
   "execution_count": 1,
   "metadata": {},
   "outputs": [],
   "source": [
    "import numpy as np\n",
    "import pandas as pd\n",
    "import matplotlib.pyplot as plt\n",
    "import scipy.stats as st\n",
    "import random\n",
    "from sklearn import linear_model\n",
    "from sklearn.impute import SimpleImputer"
   ]
  },
  {
   "cell_type": "code",
   "execution_count": 2,
   "metadata": {},
   "outputs": [],
   "source": [
    "#df = pd.read_csv('statistic_sample1.csv')\n",
    "#df['Internal migrants  Both sexes'] = df['Internal migrants  Both sexes'].str.replace(',', '').astype(int)\n",
    "#df['Japanese population  Both sexes[thousands]'] = df['Japanese population  Both sexes[thousands]'].str.replace(',', '').astype(int)"
   ]
  },
  {
   "cell_type": "code",
   "execution_count": 3,
   "metadata": {},
   "outputs": [],
   "source": [
    "#corr1 = np.corrcoef(df['Internal migrants  Both sexes'], df['Japanese population  Both sexes[thousands]'])\n",
    "#corr1"
   ]
  },
  {
   "cell_type": "code",
   "execution_count": 4,
   "metadata": {},
   "outputs": [],
   "source": [
    "#plt.scatter(df['Internal migrants  Both sexes'], df['Japanese population  Both sexes[thousands]'])"
   ]
  },
  {
   "cell_type": "code",
   "execution_count": 5,
   "metadata": {},
   "outputs": [],
   "source": [
    "#corr1, p = st.pearsonr(df['Internal migrants  Both sexes'], df['Japanese population  Both sexes[thousands]'])\n",
    "#corr1, p"
   ]
  },
  {
   "cell_type": "code",
   "execution_count": 6,
   "metadata": {},
   "outputs": [],
   "source": []
  },
  {
   "cell_type": "code",
   "execution_count": 8,
   "metadata": {},
   "outputs": [],
   "source": [
    "#データの補充\n",
    "#df['Change from previous year  Both sexes[%]'] = df['Change from previous year  Both sexes[%]'].astype(float)\n",
    "#df['Change from previous year  Both sexes[%]'] = df['Change from previous year  Both sexes[%]'].fillna(df['Change from previous year  Both sexes[%]'].mean())"
   ]
  },
  {
   "cell_type": "code",
   "execution_count": 9,
   "metadata": {},
   "outputs": [],
   "source": [
    "#重解析\n",
    "#model = linear_model.LinearRegression()\n",
    "#df2_train = df.loc[:,['Change from previous year  Both sexes[%]', 'Japanese population  Both sexes[thousands]']]\n",
    "#df2_target = df['Internal migrants  Both sexes']"
   ]
  },
  {
   "cell_type": "code",
   "execution_count": 10,
   "metadata": {},
   "outputs": [],
   "source": [
    "#model.fit(df2_train, df2_target)\n",
    "#df_result = pd.DataFrame({'Name':df2_train.columns, 'Coefficients': model.coef_[0]})\n",
    "#df_result"
   ]
  },
  {
   "cell_type": "code",
   "execution_count": 11,
   "metadata": {},
   "outputs": [],
   "source": [
    "#model.intercept_[0].round(4)"
   ]
  },
  {
   "cell_type": "code",
   "execution_count": 12,
   "metadata": {},
   "outputs": [],
   "source": [
    "df = pd.read_csv(\"http://mcobaya.web.fc2.com/table6-1.csv\")"
   ]
  },
  {
   "cell_type": "code",
   "execution_count": 13,
   "metadata": {},
   "outputs": [
    {
     "data": {
      "text/html": [
       "<div>\n",
       "<style scoped>\n",
       "    .dataframe tbody tr th:only-of-type {\n",
       "        vertical-align: middle;\n",
       "    }\n",
       "\n",
       "    .dataframe tbody tr th {\n",
       "        vertical-align: top;\n",
       "    }\n",
       "\n",
       "    .dataframe thead th {\n",
       "        text-align: right;\n",
       "    }\n",
       "</style>\n",
       "<table border=\"1\" class=\"dataframe\">\n",
       "  <thead>\n",
       "    <tr style=\"text-align: right;\">\n",
       "      <th></th>\n",
       "      <th>X</th>\n",
       "      <th>Y</th>\n",
       "    </tr>\n",
       "  </thead>\n",
       "  <tbody>\n",
       "    <tr>\n",
       "      <td>0</td>\n",
       "      <td>5</td>\n",
       "      <td>12</td>\n",
       "    </tr>\n",
       "    <tr>\n",
       "      <td>1</td>\n",
       "      <td>2</td>\n",
       "      <td>5</td>\n",
       "    </tr>\n",
       "    <tr>\n",
       "      <td>2</td>\n",
       "      <td>9</td>\n",
       "      <td>12</td>\n",
       "    </tr>\n",
       "    <tr>\n",
       "      <td>3</td>\n",
       "      <td>1</td>\n",
       "      <td>2</td>\n",
       "    </tr>\n",
       "    <tr>\n",
       "      <td>4</td>\n",
       "      <td>3</td>\n",
       "      <td>3</td>\n",
       "    </tr>\n",
       "    <tr>\n",
       "      <td>5</td>\n",
       "      <td>4</td>\n",
       "      <td>6</td>\n",
       "    </tr>\n",
       "    <tr>\n",
       "      <td>6</td>\n",
       "      <td>8</td>\n",
       "      <td>15</td>\n",
       "    </tr>\n",
       "    <tr>\n",
       "      <td>7</td>\n",
       "      <td>11</td>\n",
       "      <td>14</td>\n",
       "    </tr>\n",
       "    <tr>\n",
       "      <td>8</td>\n",
       "      <td>6</td>\n",
       "      <td>5</td>\n",
       "    </tr>\n",
       "    <tr>\n",
       "      <td>9</td>\n",
       "      <td>7</td>\n",
       "      <td>10</td>\n",
       "    </tr>\n",
       "  </tbody>\n",
       "</table>\n",
       "</div>"
      ],
      "text/plain": [
       "    X   Y\n",
       "0   5  12\n",
       "1   2   5\n",
       "2   9  12\n",
       "3   1   2\n",
       "4   3   3\n",
       "5   4   6\n",
       "6   8  15\n",
       "7  11  14\n",
       "8   6   5\n",
       "9   7  10"
      ]
     },
     "execution_count": 13,
     "metadata": {},
     "output_type": "execute_result"
    }
   ],
   "source": [
    "df"
   ]
  },
  {
   "cell_type": "code",
   "execution_count": 17,
   "metadata": {},
   "outputs": [
    {
     "data": {
      "text/plain": [
       "<matplotlib.collections.PathCollection at 0x16c234947b8>"
      ]
     },
     "execution_count": 17,
     "metadata": {},
     "output_type": "execute_result"
    },
    {
     "data": {
      "image/png": "[encoded data removed]",
      "text/plain": [
       "<Figure size 432x288 with 1 Axes>"
      ]
     },
     "metadata": {
      "needs_background": "light"
     },
     "output_type": "display_data"
    }
   ],
   "source": [
    "plt.scatter(df['X'], df['Y'])"
   ]
  },
  {
   "cell_type": "code",
   "execution_count": 2,
   "metadata": {},
   "outputs": [],
   "source": [
    "df = pd.read_csv(\"http://mcobaya.web.fc2.com/educ2.csv\", encoding= 'shift-jis')"
   ]
  },
  {
   "cell_type": "code",
   "execution_count": 3,
   "metadata": {},
   "outputs": [
    {
     "data": {
      "text/html": [
       "<div>\n",
       "<style scoped>\n",
       "    .dataframe tbody tr th:only-of-type {\n",
       "        vertical-align: middle;\n",
       "    }\n",
       "\n",
       "    .dataframe tbody tr th {\n",
       "        vertical-align: top;\n",
       "    }\n",
       "\n",
       "    .dataframe thead th {\n",
       "        text-align: right;\n",
       "    }\n",
       "</style>\n",
       "<table border=\"1\" class=\"dataframe\">\n",
       "  <thead>\n",
       "    <tr style=\"text-align: right;\">\n",
       "      <th></th>\n",
       "      <th>pref</th>\n",
       "      <th>inc</th>\n",
       "      <th>enr</th>\n",
       "      <th>stu</th>\n",
       "      <th>univ</th>\n",
       "      <th>cpi</th>\n",
       "    </tr>\n",
       "  </thead>\n",
       "  <tbody>\n",
       "    <tr>\n",
       "      <td>0</td>\n",
       "      <td>北海道</td>\n",
       "      <td>2476</td>\n",
       "      <td>40.4</td>\n",
       "      <td>12.6</td>\n",
       "      <td>0.65</td>\n",
       "      <td>99.3</td>\n",
       "    </tr>\n",
       "    <tr>\n",
       "      <td>1</td>\n",
       "      <td>青森</td>\n",
       "      <td>2333</td>\n",
       "      <td>41.9</td>\n",
       "      <td>12.4</td>\n",
       "      <td>0.73</td>\n",
       "      <td>99.8</td>\n",
       "    </tr>\n",
       "    <tr>\n",
       "      <td>2</td>\n",
       "      <td>岩手</td>\n",
       "      <td>2309</td>\n",
       "      <td>41.1</td>\n",
       "      <td>12.4</td>\n",
       "      <td>0.38</td>\n",
       "      <td>98.7</td>\n",
       "    </tr>\n",
       "    <tr>\n",
       "      <td>3</td>\n",
       "      <td>宮城</td>\n",
       "      <td>2455</td>\n",
       "      <td>45.5</td>\n",
       "      <td>13.6</td>\n",
       "      <td>0.60</td>\n",
       "      <td>98.0</td>\n",
       "    </tr>\n",
       "    <tr>\n",
       "      <td>4</td>\n",
       "      <td>秋田</td>\n",
       "      <td>2302</td>\n",
       "      <td>44.5</td>\n",
       "      <td>12.0</td>\n",
       "      <td>0.55</td>\n",
       "      <td>97.5</td>\n",
       "    </tr>\n",
       "  </tbody>\n",
       "</table>\n",
       "</div>"
      ],
      "text/plain": [
       "  pref   inc   enr   stu  univ   cpi\n",
       "0  北海道  2476  40.4  12.6  0.65  99.3\n",
       "1   青森  2333  41.9  12.4  0.73  99.8\n",
       "2   岩手  2309  41.1  12.4  0.38  98.7\n",
       "3   宮城  2455  45.5  13.6  0.60  98.0\n",
       "4   秋田  2302  44.5  12.0  0.55  97.5"
      ]
     },
     "execution_count": 3,
     "metadata": {},
     "output_type": "execute_result"
    }
   ],
   "source": [
    "df.head(5)"
   ]
  },
  {
   "cell_type": "code",
   "execution_count": 4,
   "metadata": {},
   "outputs": [
    {
     "data": {
      "text/plain": [
       "<matplotlib.collections.PathCollection at 0x19ee9bf4dd8>"
      ]
     },
     "execution_count": 4,
     "metadata": {},
     "output_type": "execute_result"
    },
    {
     "data": {
      "image/png": "[encoded data removed]",
      "text/plain": [
       "<Figure size 432x288 with 1 Axes>"
      ]
     },
     "metadata": {
      "needs_background": "light"
     },
     "output_type": "display_data"
    }
   ],
   "source": [
    "plt.scatter(df['inc'], df['enr'])"
   ]
  },
  {
   "cell_type": "markdown",
   "metadata": {},
   "source": [
    "# df['inc']を使ってt値、p値を求めて母平均の検定をしてみる"
   ]
  },
  {
   "cell_type": "code",
   "execution_count": 5,
   "metadata": {},
   "outputs": [
    {
     "name": "stdout",
     "output_type": "stream",
     "text": [
      "2684.808510638298 2652.275\n"
     ]
    }
   ],
   "source": [
    "population_mean = np.mean(df['inc'])\n",
    "sample = sample = df['inc'].sample(n = 40)\n",
    "sample_mean = np.mean(sample)\n",
    "print(population_mean, sample_mean)"
   ]
  },
  {
   "cell_type": "code",
   "execution_count": 6,
   "metadata": {},
   "outputs": [
    {
     "name": "stdout",
     "output_type": "stream",
     "text": [
      "290.03680693146515\n"
     ]
    }
   ],
   "source": [
    "sample_std = np.std(sample)\n",
    "print(sample_std)"
   ]
  },
  {
   "cell_type": "code",
   "execution_count": 7,
   "metadata": {},
   "outputs": [
    {
     "name": "stdout",
     "output_type": "stream",
     "text": [
      "-0.7094271584823324\n"
     ]
    }
   ],
   "source": [
    "#t値を計算。　正直あんま使わん\n",
    "t = (sample_mean - population_mean) / (sample_std/np.sqrt(len(sample)))\n",
    "print(t)"
   ]
  },
  {
   "cell_type": "code",
   "execution_count": 8,
   "metadata": {},
   "outputs": [
    {
     "name": "stdout",
     "output_type": "stream",
     "text": [
      "0.48777142793356176\n"
     ]
    }
   ],
   "source": [
    "#母平均とサンプル平均が同じであるというのをnull hypothesisとしてt検定をしてみる\n",
    "#t検定に必要な情報は,サンプル平均、予想した母分散平均、サンプルstd, サンプル数だが、sampleをそのままぶち込むことができるので、\n",
    "#ほかに必要なのは予想する母平均だけである。\n",
    "t_value, p_value = st.ttest_1samp(sample, population_mean)\n",
    "print(p_value)"
   ]
  },
  {
   "cell_type": "markdown",
   "metadata": {},
   "source": [
    "# 単回帰分析(独立変数が1つ)をやってみる"
   ]
  },
  {
   "cell_type": "code",
   "execution_count": 9,
   "metadata": {},
   "outputs": [],
   "source": [
    "model = linear_model.LinearRegression()\n",
    "#you need [[]]\n",
    "model = model.fit(df[['inc']], df[['enr']])"
   ]
  },
  {
   "cell_type": "code",
   "execution_count": 10,
   "metadata": {},
   "outputs": [
    {
     "data": {
      "image/png": "[encoded data removed]",
      "text/plain": [
       "<Figure size 432x288 with 1 Axes>"
      ]
     },
     "metadata": {
      "needs_background": "light"
     },
     "output_type": "display_data"
    },
    {
     "name": "stdout",
     "output_type": "stream",
     "text": [
      "Coefficient: [[0.01389755]]\n",
      "Intercept: [13.51539941]\n"
     ]
    }
   ],
   "source": [
    "plt.scatter(df['inc'], df['enr'])\n",
    "plt.plot(df[['inc']], model.predict(df[['inc']]), linestyle=\"solid\")\n",
    "plt.show()\n",
    "print('Coefficient:', str(model.coef_))\n",
    "print('Intercept:', str(model.intercept_))"
   ]
  },
  {
   "cell_type": "code",
   "execution_count": 11,
   "metadata": {},
   "outputs": [
    {
     "name": "stdout",
     "output_type": "stream",
     "text": [
      "actual number 42.0\n",
      "predicted number [[46.88341664]]\n"
     ]
    }
   ],
   "source": [
    "#predictをしてみる\n",
    "random_num = random.randint(0,46)\n",
    "pred = model.predict([[df['inc'][random_num]]])\n",
    "print('actual number', str(df['enr'][random_num]))\n",
    "print('predicted number', str(pred))"
   ]
  },
  {
   "cell_type": "markdown",
   "metadata": {},
   "source": [
    "# 重解析をやってみる"
   ]
  },
  {
   "cell_type": "code",
   "execution_count": 32,
   "metadata": {},
   "outputs": [],
   "source": [
    "df_train = df.loc[:,['inc','enr','stu','cpi']]"
   ]
  },
  {
   "cell_type": "code",
   "execution_count": 13,
   "metadata": {},
   "outputs": [],
   "source": [
    "model = linear_model.LinearRegression()\n",
    "model = model.fit(df_train, df[['univ']])"
   ]
  },
  {
   "cell_type": "code",
   "execution_count": 14,
   "metadata": {},
   "outputs": [
    {
     "name": "stdout",
     "output_type": "stream",
     "text": [
      "Coefficient: [[7.86274703e-06 9.98787393e-03 1.16146434e-02 8.23614655e-03]]\n",
      "Intercept: [-0.94975634]\n"
     ]
    }
   ],
   "source": [
    "print('Coefficient:', str(model.coef_))\n",
    "print('Intercept:', str(model.intercept_))"
   ]
  },
  {
   "cell_type": "markdown",
   "metadata": {},
   "source": [
    "# 東京という外れ値を除去して重解析をやってみる"
   ]
  },
  {
   "cell_type": "code",
   "execution_count": 18,
   "metadata": {},
   "outputs": [
    {
     "data": {
      "text/html": [
       "<div>\n",
       "<style scoped>\n",
       "    .dataframe tbody tr th:only-of-type {\n",
       "        vertical-align: middle;\n",
       "    }\n",
       "\n",
       "    .dataframe tbody tr th {\n",
       "        vertical-align: top;\n",
       "    }\n",
       "\n",
       "    .dataframe thead th {\n",
       "        text-align: right;\n",
       "    }\n",
       "</style>\n",
       "<table border=\"1\" class=\"dataframe\">\n",
       "  <thead>\n",
       "    <tr style=\"text-align: right;\">\n",
       "      <th></th>\n",
       "      <th>pref</th>\n",
       "      <th>inc</th>\n",
       "      <th>enr</th>\n",
       "      <th>stu</th>\n",
       "      <th>univ</th>\n",
       "      <th>cpi</th>\n",
       "    </tr>\n",
       "  </thead>\n",
       "  <tbody>\n",
       "    <tr>\n",
       "      <td>12</td>\n",
       "      <td>東京</td>\n",
       "      <td>4383</td>\n",
       "      <td>65.4</td>\n",
       "      <td>16.8</td>\n",
       "      <td>1.05</td>\n",
       "      <td>106.5</td>\n",
       "    </tr>\n",
       "  </tbody>\n",
       "</table>\n",
       "</div>"
      ],
      "text/plain": [
       "   pref   inc   enr   stu  univ    cpi\n",
       "12   東京  4383  65.4  16.8  1.05  106.5"
      ]
     },
     "execution_count": 18,
     "metadata": {},
     "output_type": "execute_result"
    }
   ],
   "source": [
    "df[df['pref']=='東京']"
   ]
  },
  {
   "cell_type": "code",
   "execution_count": 19,
   "metadata": {},
   "outputs": [],
   "source": [
    "df_46 = df.drop([12])"
   ]
  },
  {
   "cell_type": "code",
   "execution_count": 20,
   "metadata": {},
   "outputs": [
    {
     "data": {
      "text/plain": [
       "46"
      ]
     },
     "execution_count": 20,
     "metadata": {},
     "output_type": "execute_result"
    }
   ],
   "source": [
    "len(df_46)"
   ]
  },
  {
   "cell_type": "code",
   "execution_count": 25,
   "metadata": {},
   "outputs": [
    {
     "name": "stdout",
     "output_type": "stream",
     "text": [
      "Coefficient: [[-0.0001822   0.01493081  0.01007224 -0.00062074]]\n",
      "Intercept: [0.20346748]\n"
     ]
    }
   ],
   "source": [
    "df_train_46 = df_46.loc[:,['inc','enr','stu','cpi']]\n",
    "model = linear_model.LinearRegression()\n",
    "model = model.fit(df_train_46, df_46[['univ']])\n",
    "print('Coefficient:', str(model.coef_))\n",
    "print('Intercept:', str(model.intercept_))"
   ]
  },
  {
   "cell_type": "markdown",
   "metadata": {},
   "source": [
    "#### 解析にもp値が存在していてnull hypothesisがcoefficient=0。つまりそれぞれの係数が全く目的関数に影響を与えない確率がP-valueとなる"
   ]
  },
  {
   "cell_type": "markdown",
   "metadata": {},
   "source": [
    "# sklearnのmodelを使っても、coefficientとinterceptは出ても、p-valueは出ないっぽいので statsmodelを使ってやってみる"
   ]
  },
  {
   "cell_type": "code",
   "execution_count": 28,
   "metadata": {},
   "outputs": [],
   "source": [
    "import statsmodels.api as sm\n",
    "import statsmodels.formula.api as smf"
   ]
  },
  {
   "cell_type": "code",
   "execution_count": 29,
   "metadata": {},
   "outputs": [
    {
     "name": "stderr",
     "output_type": "stream",
     "text": [
      "C:\\Users\\daisuke\\Anaconda3\\lib\\site-packages\\numpy\\core\\fromnumeric.py:2389: FutureWarning: Method .ptp is deprecated and will be removed in a future version. Use numpy.ptp instead.\n",
      "  return ptp(axis=axis, out=out, **kwargs)\n"
     ]
    }
   ],
   "source": [
    "X_stat = sm.add_constant(df_train)\n",
    "Y_stat = df[['univ']]"
   ]
  },
  {
   "cell_type": "code",
   "execution_count": 30,
   "metadata": {},
   "outputs": [
    {
     "data": {
      "text/html": [
       "<table class=\"simpletable\">\n",
       "<caption>OLS Regression Results</caption>\n",
       "<tr>\n",
       "  <th>Dep. Variable:</th>          <td>univ</td>       <th>  R-squared:         </th> <td>   0.189</td>\n",
       "</tr>\n",
       "<tr>\n",
       "  <th>Model:</th>                   <td>OLS</td>       <th>  Adj. R-squared:    </th> <td>   0.112</td>\n",
       "</tr>\n",
       "<tr>\n",
       "  <th>Method:</th>             <td>Least Squares</td>  <th>  F-statistic:       </th> <td>   2.452</td>\n",
       "</tr>\n",
       "<tr>\n",
       "  <th>Date:</th>             <td>Thu, 22 Oct 2020</td> <th>  Prob (F-statistic):</th>  <td>0.0606</td> \n",
       "</tr>\n",
       "<tr>\n",
       "  <th>Time:</th>                 <td>13:08:30</td>     <th>  Log-Likelihood:    </th> <td>  11.308</td>\n",
       "</tr>\n",
       "<tr>\n",
       "  <th>No. Observations:</th>      <td>    47</td>      <th>  AIC:               </th> <td>  -12.62</td>\n",
       "</tr>\n",
       "<tr>\n",
       "  <th>Df Residuals:</th>          <td>    42</td>      <th>  BIC:               </th> <td>  -3.366</td>\n",
       "</tr>\n",
       "<tr>\n",
       "  <th>Df Model:</th>              <td>     4</td>      <th>                     </th>     <td> </td>   \n",
       "</tr>\n",
       "<tr>\n",
       "  <th>Covariance Type:</th>      <td>nonrobust</td>    <th>                     </th>     <td> </td>   \n",
       "</tr>\n",
       "</table>\n",
       "<table class=\"simpletable\">\n",
       "<tr>\n",
       "    <td></td>       <th>coef</th>     <th>std err</th>      <th>t</th>      <th>P>|t|</th>  <th>[0.025</th>    <th>0.975]</th>  \n",
       "</tr>\n",
       "<tr>\n",
       "  <th>const</th> <td>   -0.9498</td> <td>    1.447</td> <td>   -0.656</td> <td> 0.515</td> <td>   -3.870</td> <td>    1.971</td>\n",
       "</tr>\n",
       "<tr>\n",
       "  <th>inc</th>   <td> 7.863e-06</td> <td>    0.000</td> <td>    0.062</td> <td> 0.951</td> <td>   -0.000</td> <td>    0.000</td>\n",
       "</tr>\n",
       "<tr>\n",
       "  <th>enr</th>   <td>    0.0100</td> <td>    0.006</td> <td>    1.557</td> <td> 0.127</td> <td>   -0.003</td> <td>    0.023</td>\n",
       "</tr>\n",
       "<tr>\n",
       "  <th>stu</th>   <td>    0.0116</td> <td>    0.030</td> <td>    0.387</td> <td> 0.700</td> <td>   -0.049</td> <td>    0.072</td>\n",
       "</tr>\n",
       "<tr>\n",
       "  <th>cpi</th>   <td>    0.0082</td> <td>    0.015</td> <td>    0.545</td> <td> 0.589</td> <td>   -0.022</td> <td>    0.039</td>\n",
       "</tr>\n",
       "</table>\n",
       "<table class=\"simpletable\">\n",
       "<tr>\n",
       "  <th>Omnibus:</th>       <td> 0.927</td> <th>  Durbin-Watson:     </th> <td>   2.439</td>\n",
       "</tr>\n",
       "<tr>\n",
       "  <th>Prob(Omnibus):</th> <td> 0.629</td> <th>  Jarque-Bera (JB):  </th> <td>   0.996</td>\n",
       "</tr>\n",
       "<tr>\n",
       "  <th>Skew:</th>          <td> 0.279</td> <th>  Prob(JB):          </th> <td>   0.608</td>\n",
       "</tr>\n",
       "<tr>\n",
       "  <th>Kurtosis:</th>      <td> 2.557</td> <th>  Cond. No.          </th> <td>1.34e+05</td>\n",
       "</tr>\n",
       "</table><br/><br/>Warnings:<br/>[1] Standard Errors assume that the covariance matrix of the errors is correctly specified.<br/>[2] The condition number is large, 1.34e+05. This might indicate that there are<br/>strong multicollinearity or other numerical problems."
      ],
      "text/plain": [
       "<class 'statsmodels.iolib.summary.Summary'>\n",
       "\"\"\"\n",
       "                            OLS Regression Results                            \n",
       "==============================================================================\n",
       "Dep. Variable:                   univ   R-squared:                       0.189\n",
       "Model:                            OLS   Adj. R-squared:                  0.112\n",
       "Method:                 Least Squares   F-statistic:                     2.452\n",
       "Date:                Thu, 22 Oct 2020   Prob (F-statistic):             0.0606\n",
       "Time:                        13:08:30   Log-Likelihood:                 11.308\n",
       "No. Observations:                  47   AIC:                            -12.62\n",
       "Df Residuals:                      42   BIC:                            -3.366\n",
       "Df Model:                           4                                         \n",
       "Covariance Type:            nonrobust                                         \n",
       "==============================================================================\n",
       "                 coef    std err          t      P>|t|      [0.025      0.975]\n",
       "------------------------------------------------------------------------------\n",
       "const         -0.9498      1.447     -0.656      0.515      -3.870       1.971\n",
       "inc         7.863e-06      0.000      0.062      0.951      -0.000       0.000\n",
       "enr            0.0100      0.006      1.557      0.127      -0.003       0.023\n",
       "stu            0.0116      0.030      0.387      0.700      -0.049       0.072\n",
       "cpi            0.0082      0.015      0.545      0.589      -0.022       0.039\n",
       "==============================================================================\n",
       "Omnibus:                        0.927   Durbin-Watson:                   2.439\n",
       "Prob(Omnibus):                  0.629   Jarque-Bera (JB):                0.996\n",
       "Skew:                           0.279   Prob(JB):                        0.608\n",
       "Kurtosis:                       2.557   Cond. No.                     1.34e+05\n",
       "==============================================================================\n",
       "\n",
       "Warnings:\n",
       "[1] Standard Errors assume that the covariance matrix of the errors is correctly specified.\n",
       "[2] The condition number is large, 1.34e+05. This might indicate that there are\n",
       "strong multicollinearity or other numerical problems.\n",
       "\"\"\""
      ]
     },
     "execution_count": 30,
     "metadata": {},
     "output_type": "execute_result"
    }
   ],
   "source": [
    "# 最小二乗法でモデル化\n",
    "model_stat = sm.OLS(Y_stat, X_stat)\n",
    "result_stat = model_stat.fit()\n",
    "\n",
    "# 重回帰分析の結果を表示する\n",
    "result_stat.summary()"
   ]
  },
  {
   "cell_type": "markdown",
   "metadata": {},
   "source": [
    "### abs(t)< 2 の時,coefficent = 0の時が結構ある。abs(t) < 2 は p> 0.05と同じと判断する。\n",
    "• 質問：ｔ値が２より大きいのにｐ値が 0.05 より大きいということはありますか。\n",
    "回答：サンプルサイズが小さい（30 以下）ときにはありえます。そのときは P 値で判断\n",
    "してください。\n",
    "• 質問：逆に、ｔ値が２より小さいのにｐ値が 0.05 より小さいということはありますか。\n",
    "回答：通常の回帰分析ではありえません。\n"
   ]
  },
  {
   "cell_type": "code",
   "execution_count": null,
   "metadata": {},
   "outputs": [],
   "source": []
  }
 ],
 "metadata": {
  "kernelspec": {
   "display_name": "Python 3",
   "language": "python",
   "name": "python3"
  },
  "language_info": {
   "codemirror_mode": {
    "name": "ipython",
    "version": 3
   },
   "file_extension": ".py",
   "mimetype": "text/x-python",
   "name": "python",
   "nbconvert_exporter": "python",
   "pygments_lexer": "ipython3",
   "version": "3.8.5"
  }
 },
 "nbformat": 4,
 "nbformat_minor": 4
}
